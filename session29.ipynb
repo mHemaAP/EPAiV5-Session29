{
  "nbformat": 4,
  "nbformat_minor": 0,
  "metadata": {
    "colab": {
      "provenance": [],
      "gpuType": "T4"
    },
    "kernelspec": {
      "name": "python3",
      "display_name": "Python 3"
    },
    "language_info": {
      "name": "python"
    },
    "accelerator": "GPU"
  },
  "cells": [
    {
      "cell_type": "markdown",
      "source": [
        "Use KL Divergence loss on Knowledge Distillation Task. You can use any teacher and student model (prefer small models). You need to show that it works, and update README.md with proper logs\n"
      ],
      "metadata": {
        "id": "732RXgD-pCXV"
      }
    },
    {
      "cell_type": "code",
      "execution_count": 1,
      "metadata": {
        "id": "G8bSmKbGpBfz"
      },
      "outputs": [],
      "source": [
        "import torch\n",
        "import torch.nn as nn\n",
        "import torch.optim as optim\n",
        "import torch.nn.functional as F\n",
        "\n",
        "try:\n",
        "    from torchsummary import summary\n",
        "except ModuleNotFoundError:\n",
        "    !pip install torchsummary\n",
        "    from torchsummary import summary\n",
        "\n",
        "from torchvision import datasets, transforms\n",
        "from tqdm import tqdm\n",
        "import matplotlib.pyplot as plt\n",
        "import numpy as np\n",
        "import torchvision\n",
        "\n",
        "import os\n",
        "import time\n",
        "import math"
      ]
    },
    {
      "cell_type": "code",
      "source": [
        "train_transforms = transforms.Compose([\n",
        "                                      #  transforms.Resize((28, 28)),\n",
        "                                      #  transforms.ColorJitter(brightness=0.10, contrast=0.1, saturation=0.10, hue=0.1),\n",
        "                                      #  transforms.RandomRotation((-7.0, 7.0), fill=(1,)),\n",
        "                                       transforms.RandomAffine(degrees=10, shear = 10),\n",
        "                                       transforms.ToTensor(),\n",
        "                                       transforms.Normalize((0.1307,), (0.3081,))\n",
        "                                       # Note the difference between (0.1307) and (0.1307,)\n",
        "                                       ])\n",
        "\n",
        "# Test Phase transformations\n",
        "test_transforms = transforms.Compose([\n",
        "                                      #  transforms.Resize((28, 28)),\n",
        "                                      #  transforms.ColorJitter(brightness=0.10, contrast=0.1, saturation=0.10, hue=0.1),\n",
        "                                       transforms.ToTensor(),\n",
        "                                       transforms.Normalize((0.1307,), (0.3081,))\n",
        "                                       ])\n",
        "\n",
        "train = datasets.CIFAR10(root = './data', train=True, download=True, transform=train_transforms)\n",
        "test = datasets.CIFAR10(root='./data', train=False, download=True, transform=test_transforms)\n",
        "\n",
        "# Do we have CUDA drivers for us?\n",
        "cuda = torch.cuda.is_available()\n",
        "print (\"Cuda Available?\", cuda)\n",
        "\n",
        "dataloader_args = dict(shuffle=True, batch_size=2048, num_workers=2, pin_memory=True) if cuda else dict(shuffle=True, batch_size=64)\n",
        "\n",
        "# Dataloaders\n",
        "train_loader = torch.utils.data.DataLoader(dataset=train, **dataloader_args)\n",
        "test_loader = torch.utils.data.DataLoader(dataset=test, **dataloader_args)\n",
        "\n",
        "classes = ('plane', 'car', 'bird', 'cat',\n",
        "           'deer', 'dog', 'frog', 'horse', 'ship', 'truck')"
      ],
      "metadata": {
        "colab": {
          "base_uri": "https://localhost:8080/"
        },
        "id": "o_yxR2s92RqM",
        "outputId": "cab3adf6-5b4a-4d6e-a3e1-1c90a77b66c2"
      },
      "execution_count": 2,
      "outputs": [
        {
          "output_type": "stream",
          "name": "stdout",
          "text": [
            "Downloading https://www.cs.toronto.edu/~kriz/cifar-10-python.tar.gz to ./data/cifar-10-python.tar.gz\n"
          ]
        },
        {
          "output_type": "stream",
          "name": "stderr",
          "text": [
            "100%|██████████| 170M/170M [00:05<00:00, 30.4MB/s]\n"
          ]
        },
        {
          "output_type": "stream",
          "name": "stdout",
          "text": [
            "Extracting ./data/cifar-10-python.tar.gz to ./data\n",
            "Files already downloaded and verified\n",
            "Cuda Available? True\n"
          ]
        }
      ]
    },
    {
      "cell_type": "code",
      "source": [
        "class TeacherModel(nn.Module):\n",
        "    def __init__(self):\n",
        "        super(TeacherModel, self).__init__()\n",
        "        self.conv01 = nn.Conv2d(3, 16, 3, bias=False, padding=1)\n",
        "        self.batch01 = nn.BatchNorm2d(num_features=16)\n",
        "\n",
        "        # ---- Lets take a skip connection\n",
        "        self.skip_conv1 = nn.Conv2d(16, 16, 3, padding=0, dilation=2)\n",
        "\n",
        "        self.conv02 = nn.Conv2d(16, 16, 3, bias=False,padding=1)\n",
        "        self.batch02 = nn.BatchNorm2d(num_features=16)\n",
        "        self.conv03 = nn.Conv2d(16, 16, 3, bias=False,padding=1)\n",
        "        self.batch03 = nn.BatchNorm2d(num_features=16)\n",
        "        self.conv04 = nn.Conv2d(16, 16, 3, bias=False,padding=1)\n",
        "        self.batch04 = nn.BatchNorm2d(num_features=16)\n",
        "        self.pool01 = nn.MaxPool2d(2, 2)                                #O=16\n",
        "        self.conv05 = nn.Conv2d(16, 16, 1, bias=False)\n",
        "\n",
        "        self.conv11 = nn.Conv2d(16, 64, 3, bias=False, padding=1)\n",
        "        self.batch11 = nn.BatchNorm2d(num_features=64)\n",
        "        self.conv12 = nn.Conv2d(64, 64, 3, bias=False, padding=1)\n",
        "        self.batch12 = nn.BatchNorm2d(num_features=64)\n",
        "        self.conv13 = nn.Conv2d(64, 64, 3, bias=False, padding=1)\n",
        "        self.batch13 = nn.BatchNorm2d(num_features=64)\n",
        "        self.conv14 = nn.Conv2d(64, 64, 3, bias=False, padding=1)\n",
        "        self.batch14 = nn.BatchNorm2d(num_features=64)\n",
        "        self.pool11 = nn.MaxPool2d(2, 2)                                #O=8\n",
        "        self.conv15 = nn.Conv2d(64, 64, 1, bias=False)\n",
        "\n",
        "        self.conv21 = nn.Conv2d(64, 128, 3, bias=False, padding=1)\n",
        "        self.batch21 = nn.BatchNorm2d(num_features=128)\n",
        "        self.conv22 = nn.Conv2d(128, 128, 3, bias=False, padding=1)\n",
        "        self.batch22 = nn.BatchNorm2d(num_features=128)\n",
        "        self.conv23 = nn.Conv2d(128,128, 3, bias=False, padding=1)\n",
        "        self.batch23 = nn.BatchNorm2d(num_features=128)\n",
        "        self.conv24 = nn.Conv2d(128, 128, 3, bias=False, padding=1)\n",
        "        self.batch24 = nn.BatchNorm2d(num_features=128)\n",
        "        self.pool21 = nn.MaxPool2d(2, 2)                                #O=4\n",
        "        self.conv25 = nn.Conv2d(128, 128, 1, bias=False)\n",
        "\n",
        "        self.conv31 = nn.Conv2d(in_channels=128, out_channels=128, kernel_size=3, groups=128, bias = False, padding = 1)\n",
        "        self.convPV1= nn.Conv2d(in_channels=128, out_channels=128, kernel_size=1, bias = False, padding = 0)\n",
        "        self.batch31 = nn.BatchNorm2d(num_features=128)\n",
        "        self.conv32 = nn.Conv2d(in_channels=128, out_channels=128, kernel_size=3, groups=128, bias = False, padding = 1)\n",
        "        self.convPV2= nn.Conv2d(in_channels=128, out_channels=256, kernel_size=1, bias = False, padding = 0)\n",
        "        self.batch32 = nn.BatchNorm2d(num_features=256)\n",
        "\n",
        "\n",
        "        self.avg_pool = nn.AvgPool2d(kernel_size=4)\n",
        "        self.convx3 = nn.Conv2d(256, 10, 1, bias=False, padding=0)\n",
        "\n",
        "    def forward(self, x):\n",
        "        x = self.batch01(F.relu(self.conv01(x)))\n",
        "\n",
        "        # ---- Lets take a skip connection\n",
        "        skip_channels = self.skip_conv1(self.skip_conv1(self.skip_conv1(self.skip_conv1(x))))\n",
        "\n",
        "        x = self.batch02(F.relu(self.conv02(x)))\n",
        "        x = self.batch03(F.relu(self.conv03(x)))\n",
        "        x = self.batch04(F.relu(self.conv04(x)))\n",
        "        x = self.pool01(x)\n",
        "        x = self.conv05(x)\n",
        "        # ----------------------------------------------------------\n",
        "\n",
        "        # ---- Lets add the skip connection here\n",
        "        x = skip_channels + x\n",
        "\n",
        "        x = self.batch11(F.relu(self.conv11(x)))\n",
        "        x = self.batch12(F.relu(self.conv12(x)))\n",
        "        x = self.batch13(F.relu(self.conv13(x)))\n",
        "        x = self.batch14(F.relu(self.conv14(x)))\n",
        "        x = self.pool11(x)\n",
        "        x = self.conv15(x)\n",
        "        # ----------------------------------------------------------\n",
        "\n",
        "        x = self.batch21(F.relu(self.conv21(x)))\n",
        "        x = self.batch22(F.relu(self.conv22(x)))\n",
        "        x = self.batch23(F.relu(self.conv23(x)))\n",
        "        x = self.batch24(F.relu(self.conv24(x)))\n",
        "        x = self.pool21(x)\n",
        "        x = self.conv25(x)\n",
        "        # ----------------------------------------------------------\n",
        "\n",
        "        x = self.batch31(F.relu(self.convPV1(F.relu(self.conv31(x)))))\n",
        "        x = self.batch32(F.relu(self.convPV2(F.relu(self.conv32(x)))))\n",
        "\n",
        "\n",
        "        x = self.avg_pool(x)\n",
        "        x = self.convx3(x)\n",
        "        x = x.view(-1, 10)                           # Don't want 10x1x1..\n",
        "        return F.log_softmax(x, dim=1)  # Added dim=1 parameter)"
      ],
      "metadata": {
        "id": "K10_ILasJFly"
      },
      "execution_count": 3,
      "outputs": []
    },
    {
      "cell_type": "code",
      "source": [
        "from tqdm import tqdm\n",
        "\n",
        "train_losses = []\n",
        "test_losses = []\n",
        "train_acc = []\n",
        "test_acc = []\n",
        "time_taken = []\n",
        "\n",
        "class EarlyStopping:\n",
        "    def __init__(self, tolerance=5, min_delta=0.01):\n",
        "        self.tolerance = tolerance\n",
        "        self.min_delta = min_delta\n",
        "        self.prev_loss = None  # Initialize as None\n",
        "        self.counter = 0\n",
        "\n",
        "    def __call__(self, train_loss):\n",
        "        if self.prev_loss is None:  # First iteration\n",
        "            self.prev_loss = train_loss\n",
        "            return False  # Continue training\n",
        "\n",
        "        if (abs(train_loss - self.prev_loss)) < self.min_delta:\n",
        "            print(f'---------- prev = {self.prev_loss} current = {train_loss} ---------')\n",
        "            self.counter += 1\n",
        "        else:\n",
        "            self.counter = 0  # Reset counter if loss improves\n",
        "\n",
        "        self.prev_loss = train_loss\n",
        "\n",
        "        return self.counter >= self.tolerance  # Return True if stopping criteria met\n",
        "\n",
        "\n",
        "\n",
        "def train(model, device, train_loader, optimizer, epoch):\n",
        "    model.train()\n",
        "    pbar = tqdm(train_loader)\n",
        "\n",
        "    correct = 0\n",
        "    processed = 0\n",
        "    epoch_loss = 0\n",
        "    time_taken.clear()\n",
        "\n",
        "    for batch_idx, (data, target) in enumerate(pbar):\n",
        "        t0 = time.time()\n",
        "\n",
        "        data, target = data.to(device), target.to(device)\n",
        "\n",
        "        # Don't want history of gradients\n",
        "        optimizer.zero_grad()\n",
        "\n",
        "        y_predict = model(data)\n",
        "\n",
        "        # Calculate loss\n",
        "        loss = F.nll_loss(y_predict, target)\n",
        "        epoch_loss += loss.item()\n",
        "\n",
        "        # Backpropagate error\n",
        "        loss.backward()\n",
        "\n",
        "        # Take an optimizer step\n",
        "        optimizer.step()\n",
        "\n",
        "        torch.cuda.synchronize()\n",
        "        t1 = time.time()\n",
        "\n",
        "        time_taken.append((t1 - t0))\n",
        "\n",
        "        pred = y_predict.argmax(dim=1, keepdim=True)  # get the index of the max log-probability\n",
        "        correct += pred.eq(target.view_as(pred)).sum().item()\n",
        "        processed += len(data)\n",
        "\n",
        "        pbar.set_description(desc=f'Loss={loss.item()} Batch_id={batch_idx} Accuracy={100 * correct / processed:0.2f}')\n",
        "        train_acc.append(100 * correct / processed)\n",
        "\n",
        "    avg_train_loss = epoch_loss / len(train_loader)\n",
        "    train_losses.append(avg_train_loss)\n",
        "    return avg_train_loss\n",
        "\n",
        "\n",
        "def test(model, device, test_loader):\n",
        "    model.eval()\n",
        "\n",
        "    test_loss = 0\n",
        "    correct = 0\n",
        "\n",
        "    with torch.no_grad():\n",
        "        for data, target in test_loader:\n",
        "            data, target = data.to(device), target.to(device)\n",
        "\n",
        "            output = model(data)\n",
        "\n",
        "            test_loss += F.nll_loss(output, target, reduction='sum').item()  # sum up batch loss\n",
        "            pred = output.argmax(dim=1, keepdim=True)  # get the index of the max log-probability\n",
        "            correct += pred.eq(target.view_as(pred)).sum().item()\n",
        "\n",
        "    test_loss /= len(test_loader.dataset)\n",
        "    test_losses.append(test_loss)\n",
        "\n",
        "    print('\\nTest set: Average loss: {:.4f}, Accuracy: {}/{} ({:.2f}%)\\n'.format(\n",
        "        test_loss, correct, len(test_loader.dataset),\n",
        "        100. * correct / len(test_loader.dataset)))\n",
        "\n",
        "    test_acc.append(100. * correct / len(test_loader.dataset))\n",
        "    return test_loss"
      ],
      "metadata": {
        "id": "MMVJZShF7YfE"
      },
      "execution_count": 4,
      "outputs": []
    },
    {
      "cell_type": "code",
      "source": [
        "# Initialize model, optimizer, and early stopping\n",
        "device = torch.device(\"cuda\" if torch.cuda.is_available() else \"cpu\")\n",
        "print (f'Device Using = {device}')\n",
        "model = TeacherModel().to(device)\n",
        "summary(model, input_size=(3, 32, 32))\n",
        "criteria = nn.CrossEntropyLoss()\n",
        "optimizer = optim.SGD(model.parameters(), lr=0.01, momentum=0.9)\n",
        "early_stopping = EarlyStopping(tolerance=5, min_delta=0.02)\n",
        "\n",
        "EPOCHS = 100\n",
        "for epoch in range(EPOCHS):\n",
        "    print(f\"Epoch {epoch + 1}/{EPOCHS}\")\n",
        "    avg_train_loss = train(model, device, train_loader, optimizer, epoch)\n",
        "    print(f\" --> EPOCH: {epoch}, Avg Training Loss: {avg_train_loss:.4f}, Avg Time Taken = {(sum(time_taken) / len(time_taken)) * 1000:.2f}ms\")\n",
        "    val_loss = test(model, device, test_loader)\n",
        "\n",
        "    # Check for early stopping\n",
        "    if early_stopping(avg_train_loss):\n",
        "        try:\n",
        "            # Ensure the directory exists\n",
        "            save_dir = '/content/drive/MyDrive/EPAi_V5'\n",
        "            os.makedirs(save_dir, exist_ok=True)\n",
        "            PATH = os.path.join(save_dir, f'model_heavy_acc_{int(train_acc[-1]):d}.pth')\n",
        "        except OSError:\n",
        "            # Fallback to current directory if Drive is unavailable\n",
        "            PATH = f'./model_heavy_acc_{int(train_acc[-1]):d}.pth'\n",
        "\n",
        "        # Save the model weights\n",
        "        torch.save(model.state_dict(), PATH)\n",
        "        print(f\"Model saved at: {PATH}\")\n",
        "        print(\"Early stopping triggered!\")\n",
        "        break"
      ],
      "metadata": {
        "id": "aoTqX5JC4pSx",
        "colab": {
          "base_uri": "https://localhost:8080/"
        },
        "outputId": "613d0de2-7007-44c0-f630-428ec32c3646"
      },
      "execution_count": 5,
      "outputs": [
        {
          "output_type": "stream",
          "name": "stdout",
          "text": [
            "Device Using = cuda\n",
            "----------------------------------------------------------------\n",
            "        Layer (type)               Output Shape         Param #\n",
            "================================================================\n",
            "            Conv2d-1           [-1, 16, 32, 32]             432\n",
            "       BatchNorm2d-2           [-1, 16, 32, 32]              32\n",
            "            Conv2d-3           [-1, 16, 28, 28]           2,320\n",
            "            Conv2d-4           [-1, 16, 24, 24]           2,320\n",
            "            Conv2d-5           [-1, 16, 20, 20]           2,320\n",
            "            Conv2d-6           [-1, 16, 16, 16]           2,320\n",
            "            Conv2d-7           [-1, 16, 32, 32]           2,304\n",
            "       BatchNorm2d-8           [-1, 16, 32, 32]              32\n",
            "            Conv2d-9           [-1, 16, 32, 32]           2,304\n",
            "      BatchNorm2d-10           [-1, 16, 32, 32]              32\n",
            "           Conv2d-11           [-1, 16, 32, 32]           2,304\n",
            "      BatchNorm2d-12           [-1, 16, 32, 32]              32\n",
            "        MaxPool2d-13           [-1, 16, 16, 16]               0\n",
            "           Conv2d-14           [-1, 16, 16, 16]             256\n",
            "           Conv2d-15           [-1, 64, 16, 16]           9,216\n",
            "      BatchNorm2d-16           [-1, 64, 16, 16]             128\n",
            "           Conv2d-17           [-1, 64, 16, 16]          36,864\n",
            "      BatchNorm2d-18           [-1, 64, 16, 16]             128\n",
            "           Conv2d-19           [-1, 64, 16, 16]          36,864\n",
            "      BatchNorm2d-20           [-1, 64, 16, 16]             128\n",
            "           Conv2d-21           [-1, 64, 16, 16]          36,864\n",
            "      BatchNorm2d-22           [-1, 64, 16, 16]             128\n",
            "        MaxPool2d-23             [-1, 64, 8, 8]               0\n",
            "           Conv2d-24             [-1, 64, 8, 8]           4,096\n",
            "           Conv2d-25            [-1, 128, 8, 8]          73,728\n",
            "      BatchNorm2d-26            [-1, 128, 8, 8]             256\n",
            "           Conv2d-27            [-1, 128, 8, 8]         147,456\n",
            "      BatchNorm2d-28            [-1, 128, 8, 8]             256\n",
            "           Conv2d-29            [-1, 128, 8, 8]         147,456\n",
            "      BatchNorm2d-30            [-1, 128, 8, 8]             256\n",
            "           Conv2d-31            [-1, 128, 8, 8]         147,456\n",
            "      BatchNorm2d-32            [-1, 128, 8, 8]             256\n",
            "        MaxPool2d-33            [-1, 128, 4, 4]               0\n",
            "           Conv2d-34            [-1, 128, 4, 4]          16,384\n",
            "           Conv2d-35            [-1, 128, 4, 4]           1,152\n",
            "           Conv2d-36            [-1, 128, 4, 4]          16,384\n",
            "      BatchNorm2d-37            [-1, 128, 4, 4]             256\n",
            "           Conv2d-38            [-1, 128, 4, 4]           1,152\n",
            "           Conv2d-39            [-1, 256, 4, 4]          32,768\n",
            "      BatchNorm2d-40            [-1, 256, 4, 4]             512\n",
            "        AvgPool2d-41            [-1, 256, 1, 1]               0\n",
            "           Conv2d-42             [-1, 10, 1, 1]           2,560\n",
            "================================================================\n",
            "Total params: 729,712\n",
            "Trainable params: 729,712\n",
            "Non-trainable params: 0\n",
            "----------------------------------------------------------------\n",
            "Input size (MB): 0.01\n",
            "Forward/backward pass size (MB): 3.03\n",
            "Params size (MB): 2.78\n",
            "Estimated Total Size (MB): 5.82\n",
            "----------------------------------------------------------------\n",
            "Epoch 1/100\n"
          ]
        },
        {
          "output_type": "stream",
          "name": "stderr",
          "text": [
            "Loss=1.7319616079330444 Batch_id=24 Accuracy=25.04: 100%|██████████| 25/25 [00:25<00:00,  1.03s/it]"
          ]
        },
        {
          "output_type": "stream",
          "name": "stdout",
          "text": [
            " --> EPOCH: 0, Avg Training Loss: 1.9959, Avg Time Taken = 444.17ms\n"
          ]
        },
        {
          "output_type": "stream",
          "name": "stderr",
          "text": [
            "\n"
          ]
        },
        {
          "output_type": "stream",
          "name": "stdout",
          "text": [
            "\n",
            "Test set: Average loss: 2.3616, Accuracy: 1000/10000 (10.00%)\n",
            "\n",
            "Epoch 2/100\n"
          ]
        },
        {
          "output_type": "stream",
          "name": "stderr",
          "text": [
            "Loss=1.485198974609375 Batch_id=24 Accuracy=42.36: 100%|██████████| 25/25 [00:17<00:00,  1.42it/s]"
          ]
        },
        {
          "output_type": "stream",
          "name": "stdout",
          "text": [
            " --> EPOCH: 1, Avg Training Loss: 1.5596, Avg Time Taken = 436.66ms\n"
          ]
        },
        {
          "output_type": "stream",
          "name": "stderr",
          "text": [
            "\n"
          ]
        },
        {
          "output_type": "stream",
          "name": "stdout",
          "text": [
            "\n",
            "Test set: Average loss: 1.5399, Accuracy: 4465/10000 (44.65%)\n",
            "\n",
            "Epoch 3/100\n"
          ]
        },
        {
          "output_type": "stream",
          "name": "stderr",
          "text": [
            "Loss=1.2382609844207764 Batch_id=24 Accuracy=51.22: 100%|██████████| 25/25 [00:17<00:00,  1.47it/s]"
          ]
        },
        {
          "output_type": "stream",
          "name": "stdout",
          "text": [
            " --> EPOCH: 2, Avg Training Loss: 1.3384, Avg Time Taken = 442.32ms\n"
          ]
        },
        {
          "output_type": "stream",
          "name": "stderr",
          "text": [
            "\n"
          ]
        },
        {
          "output_type": "stream",
          "name": "stdout",
          "text": [
            "\n",
            "Test set: Average loss: 1.3909, Accuracy: 4906/10000 (49.06%)\n",
            "\n",
            "Epoch 4/100\n"
          ]
        },
        {
          "output_type": "stream",
          "name": "stderr",
          "text": [
            "Loss=1.0791206359863281 Batch_id=24 Accuracy=57.21: 100%|██████████| 25/25 [00:17<00:00,  1.40it/s]"
          ]
        },
        {
          "output_type": "stream",
          "name": "stdout",
          "text": [
            " --> EPOCH: 3, Avg Training Loss: 1.1853, Avg Time Taken = 429.29ms\n"
          ]
        },
        {
          "output_type": "stream",
          "name": "stderr",
          "text": [
            "\n"
          ]
        },
        {
          "output_type": "stream",
          "name": "stdout",
          "text": [
            "\n",
            "Test set: Average loss: 1.2819, Accuracy: 5486/10000 (54.86%)\n",
            "\n",
            "Epoch 5/100\n"
          ]
        },
        {
          "output_type": "stream",
          "name": "stderr",
          "text": [
            "Loss=1.0430524349212646 Batch_id=24 Accuracy=61.28: 100%|██████████| 25/25 [00:17<00:00,  1.46it/s]"
          ]
        },
        {
          "output_type": "stream",
          "name": "stdout",
          "text": [
            " --> EPOCH: 4, Avg Training Loss: 1.0724, Avg Time Taken = 423.51ms\n"
          ]
        },
        {
          "output_type": "stream",
          "name": "stderr",
          "text": [
            "\n"
          ]
        },
        {
          "output_type": "stream",
          "name": "stdout",
          "text": [
            "\n",
            "Test set: Average loss: 1.1312, Accuracy: 5964/10000 (59.64%)\n",
            "\n",
            "Epoch 6/100\n"
          ]
        },
        {
          "output_type": "stream",
          "name": "stderr",
          "text": [
            "Loss=0.9689779281616211 Batch_id=24 Accuracy=64.64: 100%|██████████| 25/25 [00:17<00:00,  1.40it/s]"
          ]
        },
        {
          "output_type": "stream",
          "name": "stdout",
          "text": [
            " --> EPOCH: 5, Avg Training Loss: 0.9871, Avg Time Taken = 429.04ms\n"
          ]
        },
        {
          "output_type": "stream",
          "name": "stderr",
          "text": [
            "\n"
          ]
        },
        {
          "output_type": "stream",
          "name": "stdout",
          "text": [
            "\n",
            "Test set: Average loss: 1.0078, Accuracy: 6466/10000 (64.66%)\n",
            "\n",
            "Epoch 7/100\n"
          ]
        },
        {
          "output_type": "stream",
          "name": "stderr",
          "text": [
            "Loss=0.9574969410896301 Batch_id=24 Accuracy=67.50: 100%|██████████| 25/25 [00:16<00:00,  1.48it/s]"
          ]
        },
        {
          "output_type": "stream",
          "name": "stdout",
          "text": [
            " --> EPOCH: 6, Avg Training Loss: 0.9085, Avg Time Taken = 431.25ms\n"
          ]
        },
        {
          "output_type": "stream",
          "name": "stderr",
          "text": [
            "\n"
          ]
        },
        {
          "output_type": "stream",
          "name": "stdout",
          "text": [
            "\n",
            "Test set: Average loss: 0.9926, Accuracy: 6495/10000 (64.95%)\n",
            "\n",
            "Epoch 8/100\n"
          ]
        },
        {
          "output_type": "stream",
          "name": "stderr",
          "text": [
            "Loss=0.7988631129264832 Batch_id=24 Accuracy=69.91: 100%|██████████| 25/25 [00:17<00:00,  1.45it/s]"
          ]
        },
        {
          "output_type": "stream",
          "name": "stdout",
          "text": [
            " --> EPOCH: 7, Avg Training Loss: 0.8450, Avg Time Taken = 431.23ms\n"
          ]
        },
        {
          "output_type": "stream",
          "name": "stderr",
          "text": [
            "\n"
          ]
        },
        {
          "output_type": "stream",
          "name": "stdout",
          "text": [
            "\n",
            "Test set: Average loss: 0.9559, Accuracy: 6643/10000 (66.43%)\n",
            "\n",
            "Epoch 9/100\n"
          ]
        },
        {
          "output_type": "stream",
          "name": "stderr",
          "text": [
            "Loss=0.7736895680427551 Batch_id=24 Accuracy=72.47: 100%|██████████| 25/25 [00:17<00:00,  1.41it/s]"
          ]
        },
        {
          "output_type": "stream",
          "name": "stdout",
          "text": [
            " --> EPOCH: 8, Avg Training Loss: 0.7854, Avg Time Taken = 429.17ms\n"
          ]
        },
        {
          "output_type": "stream",
          "name": "stderr",
          "text": [
            "\n"
          ]
        },
        {
          "output_type": "stream",
          "name": "stdout",
          "text": [
            "\n",
            "Test set: Average loss: 0.8552, Accuracy: 7049/10000 (70.49%)\n",
            "\n",
            "Epoch 10/100\n"
          ]
        },
        {
          "output_type": "stream",
          "name": "stderr",
          "text": [
            "Loss=0.6935614943504333 Batch_id=24 Accuracy=74.41: 100%|██████████| 25/25 [00:16<00:00,  1.47it/s]"
          ]
        },
        {
          "output_type": "stream",
          "name": "stdout",
          "text": [
            " --> EPOCH: 9, Avg Training Loss: 0.7258, Avg Time Taken = 426.59ms\n"
          ]
        },
        {
          "output_type": "stream",
          "name": "stderr",
          "text": [
            "\n"
          ]
        },
        {
          "output_type": "stream",
          "name": "stdout",
          "text": [
            "\n",
            "Test set: Average loss: 0.7971, Accuracy: 7247/10000 (72.47%)\n",
            "\n",
            "Epoch 11/100\n"
          ]
        },
        {
          "output_type": "stream",
          "name": "stderr",
          "text": [
            "Loss=0.7197743654251099 Batch_id=24 Accuracy=75.98: 100%|██████████| 25/25 [00:18<00:00,  1.39it/s]"
          ]
        },
        {
          "output_type": "stream",
          "name": "stdout",
          "text": [
            " --> EPOCH: 10, Avg Training Loss: 0.6862, Avg Time Taken = 429.92ms\n"
          ]
        },
        {
          "output_type": "stream",
          "name": "stderr",
          "text": [
            "\n"
          ]
        },
        {
          "output_type": "stream",
          "name": "stdout",
          "text": [
            "\n",
            "Test set: Average loss: 0.7972, Accuracy: 7256/10000 (72.56%)\n",
            "\n",
            "Epoch 12/100\n"
          ]
        },
        {
          "output_type": "stream",
          "name": "stderr",
          "text": [
            "Loss=0.5909600257873535 Batch_id=24 Accuracy=77.33: 100%|██████████| 25/25 [00:17<00:00,  1.46it/s]"
          ]
        },
        {
          "output_type": "stream",
          "name": "stdout",
          "text": [
            " --> EPOCH: 11, Avg Training Loss: 0.6445, Avg Time Taken = 431.57ms\n"
          ]
        },
        {
          "output_type": "stream",
          "name": "stderr",
          "text": [
            "\n"
          ]
        },
        {
          "output_type": "stream",
          "name": "stdout",
          "text": [
            "\n",
            "Test set: Average loss: 0.7919, Accuracy: 7303/10000 (73.03%)\n",
            "\n",
            "Epoch 13/100\n"
          ]
        },
        {
          "output_type": "stream",
          "name": "stderr",
          "text": [
            "Loss=0.5948521494865417 Batch_id=24 Accuracy=79.17: 100%|██████████| 25/25 [00:18<00:00,  1.34it/s]"
          ]
        },
        {
          "output_type": "stream",
          "name": "stdout",
          "text": [
            " --> EPOCH: 12, Avg Training Loss: 0.5996, Avg Time Taken = 430.04ms\n"
          ]
        },
        {
          "output_type": "stream",
          "name": "stderr",
          "text": [
            "\n"
          ]
        },
        {
          "output_type": "stream",
          "name": "stdout",
          "text": [
            "\n",
            "Test set: Average loss: 0.7760, Accuracy: 7402/10000 (74.02%)\n",
            "\n",
            "Epoch 14/100\n"
          ]
        },
        {
          "output_type": "stream",
          "name": "stderr",
          "text": [
            "Loss=0.5677103996276855 Batch_id=24 Accuracy=80.28: 100%|██████████| 25/25 [00:17<00:00,  1.44it/s]"
          ]
        },
        {
          "output_type": "stream",
          "name": "stdout",
          "text": [
            " --> EPOCH: 13, Avg Training Loss: 0.5691, Avg Time Taken = 431.12ms\n"
          ]
        },
        {
          "output_type": "stream",
          "name": "stderr",
          "text": [
            "\n"
          ]
        },
        {
          "output_type": "stream",
          "name": "stdout",
          "text": [
            "\n",
            "Test set: Average loss: 0.7186, Accuracy: 7550/10000 (75.50%)\n",
            "\n",
            "Epoch 15/100\n"
          ]
        },
        {
          "output_type": "stream",
          "name": "stderr",
          "text": [
            "Loss=0.5184250473976135 Batch_id=24 Accuracy=81.20: 100%|██████████| 25/25 [00:17<00:00,  1.44it/s]"
          ]
        },
        {
          "output_type": "stream",
          "name": "stdout",
          "text": [
            " --> EPOCH: 14, Avg Training Loss: 0.5364, Avg Time Taken = 429.78ms\n"
          ]
        },
        {
          "output_type": "stream",
          "name": "stderr",
          "text": [
            "\n"
          ]
        },
        {
          "output_type": "stream",
          "name": "stdout",
          "text": [
            "\n",
            "Test set: Average loss: 0.7707, Accuracy: 7421/10000 (74.21%)\n",
            "\n",
            "Epoch 16/100\n"
          ]
        },
        {
          "output_type": "stream",
          "name": "stderr",
          "text": [
            "Loss=0.5586455464363098 Batch_id=24 Accuracy=82.31: 100%|██████████| 25/25 [00:18<00:00,  1.37it/s]"
          ]
        },
        {
          "output_type": "stream",
          "name": "stdout",
          "text": [
            " --> EPOCH: 15, Avg Training Loss: 0.5106, Avg Time Taken = 429.70ms\n"
          ]
        },
        {
          "output_type": "stream",
          "name": "stderr",
          "text": [
            "\n"
          ]
        },
        {
          "output_type": "stream",
          "name": "stdout",
          "text": [
            "\n",
            "Test set: Average loss: 0.7712, Accuracy: 7424/10000 (74.24%)\n",
            "\n",
            "Epoch 17/100\n"
          ]
        },
        {
          "output_type": "stream",
          "name": "stderr",
          "text": [
            "Loss=0.5239001512527466 Batch_id=24 Accuracy=83.15: 100%|██████████| 25/25 [00:17<00:00,  1.46it/s]"
          ]
        },
        {
          "output_type": "stream",
          "name": "stdout",
          "text": [
            " --> EPOCH: 16, Avg Training Loss: 0.4862, Avg Time Taken = 425.72ms\n"
          ]
        },
        {
          "output_type": "stream",
          "name": "stderr",
          "text": [
            "\n"
          ]
        },
        {
          "output_type": "stream",
          "name": "stdout",
          "text": [
            "\n",
            "Test set: Average loss: 0.7160, Accuracy: 7628/10000 (76.28%)\n",
            "\n",
            "Epoch 18/100\n"
          ]
        },
        {
          "output_type": "stream",
          "name": "stderr",
          "text": [
            "Loss=0.47968998551368713 Batch_id=24 Accuracy=83.89: 100%|██████████| 25/25 [00:17<00:00,  1.42it/s]"
          ]
        },
        {
          "output_type": "stream",
          "name": "stdout",
          "text": [
            " --> EPOCH: 17, Avg Training Loss: 0.4622, Avg Time Taken = 431.19ms\n"
          ]
        },
        {
          "output_type": "stream",
          "name": "stderr",
          "text": [
            "\n"
          ]
        },
        {
          "output_type": "stream",
          "name": "stdout",
          "text": [
            "\n",
            "Test set: Average loss: 0.7288, Accuracy: 7623/10000 (76.23%)\n",
            "\n",
            "Epoch 19/100\n"
          ]
        },
        {
          "output_type": "stream",
          "name": "stderr",
          "text": [
            "Loss=0.4700057804584503 Batch_id=24 Accuracy=84.77: 100%|██████████| 25/25 [00:16<00:00,  1.48it/s]"
          ]
        },
        {
          "output_type": "stream",
          "name": "stdout",
          "text": [
            " --> EPOCH: 18, Avg Training Loss: 0.4395, Avg Time Taken = 430.30ms\n"
          ]
        },
        {
          "output_type": "stream",
          "name": "stderr",
          "text": [
            "\n"
          ]
        },
        {
          "output_type": "stream",
          "name": "stdout",
          "text": [
            "\n",
            "Test set: Average loss: 0.7055, Accuracy: 7703/10000 (77.03%)\n",
            "\n",
            "Epoch 20/100\n"
          ]
        },
        {
          "output_type": "stream",
          "name": "stderr",
          "text": [
            "Loss=0.3999972343444824 Batch_id=24 Accuracy=85.79: 100%|██████████| 25/25 [00:17<00:00,  1.45it/s]"
          ]
        },
        {
          "output_type": "stream",
          "name": "stdout",
          "text": [
            " --> EPOCH: 19, Avg Training Loss: 0.4106, Avg Time Taken = 428.19ms\n"
          ]
        },
        {
          "output_type": "stream",
          "name": "stderr",
          "text": [
            "\n"
          ]
        },
        {
          "output_type": "stream",
          "name": "stdout",
          "text": [
            "\n",
            "Test set: Average loss: 0.7002, Accuracy: 7705/10000 (77.05%)\n",
            "\n",
            "Epoch 21/100\n"
          ]
        },
        {
          "output_type": "stream",
          "name": "stderr",
          "text": [
            "Loss=0.41455698013305664 Batch_id=24 Accuracy=86.32: 100%|██████████| 25/25 [00:17<00:00,  1.46it/s]"
          ]
        },
        {
          "output_type": "stream",
          "name": "stdout",
          "text": [
            " --> EPOCH: 20, Avg Training Loss: 0.3939, Avg Time Taken = 428.76ms\n"
          ]
        },
        {
          "output_type": "stream",
          "name": "stderr",
          "text": [
            "\n"
          ]
        },
        {
          "output_type": "stream",
          "name": "stdout",
          "text": [
            "\n",
            "Test set: Average loss: 0.7007, Accuracy: 7755/10000 (77.55%)\n",
            "\n",
            "---------- prev = 0.4106309008598328 current = 0.3939350962638855 ---------\n",
            "Epoch 22/100\n"
          ]
        },
        {
          "output_type": "stream",
          "name": "stderr",
          "text": [
            "Loss=0.3779963254928589 Batch_id=24 Accuracy=87.07: 100%|██████████| 25/25 [00:16<00:00,  1.48it/s]"
          ]
        },
        {
          "output_type": "stream",
          "name": "stdout",
          "text": [
            " --> EPOCH: 21, Avg Training Loss: 0.3684, Avg Time Taken = 427.82ms\n"
          ]
        },
        {
          "output_type": "stream",
          "name": "stderr",
          "text": [
            "\n"
          ]
        },
        {
          "output_type": "stream",
          "name": "stdout",
          "text": [
            "\n",
            "Test set: Average loss: 0.6848, Accuracy: 7793/10000 (77.93%)\n",
            "\n",
            "Epoch 23/100\n"
          ]
        },
        {
          "output_type": "stream",
          "name": "stderr",
          "text": [
            "Loss=0.3876402974128723 Batch_id=24 Accuracy=88.04: 100%|██████████| 25/25 [00:17<00:00,  1.46it/s]"
          ]
        },
        {
          "output_type": "stream",
          "name": "stdout",
          "text": [
            " --> EPOCH: 22, Avg Training Loss: 0.3492, Avg Time Taken = 428.29ms\n"
          ]
        },
        {
          "output_type": "stream",
          "name": "stderr",
          "text": [
            "\n"
          ]
        },
        {
          "output_type": "stream",
          "name": "stdout",
          "text": [
            "\n",
            "Test set: Average loss: 0.7240, Accuracy: 7709/10000 (77.09%)\n",
            "\n",
            "---------- prev = 0.36843979835510254 current = 0.3491759085655212 ---------\n",
            "Epoch 24/100\n"
          ]
        },
        {
          "output_type": "stream",
          "name": "stderr",
          "text": [
            "Loss=0.3711775541305542 Batch_id=24 Accuracy=88.47: 100%|██████████| 25/25 [00:17<00:00,  1.47it/s]"
          ]
        },
        {
          "output_type": "stream",
          "name": "stdout",
          "text": [
            " --> EPOCH: 23, Avg Training Loss: 0.3356, Avg Time Taken = 428.88ms\n"
          ]
        },
        {
          "output_type": "stream",
          "name": "stderr",
          "text": [
            "\n"
          ]
        },
        {
          "output_type": "stream",
          "name": "stdout",
          "text": [
            "\n",
            "Test set: Average loss: 0.6859, Accuracy: 7805/10000 (78.05%)\n",
            "\n",
            "---------- prev = 0.3491759085655212 current = 0.33556448817253115 ---------\n",
            "Epoch 25/100\n"
          ]
        },
        {
          "output_type": "stream",
          "name": "stderr",
          "text": [
            "Loss=0.32334133982658386 Batch_id=24 Accuracy=88.93: 100%|██████████| 25/25 [00:18<00:00,  1.38it/s]"
          ]
        },
        {
          "output_type": "stream",
          "name": "stdout",
          "text": [
            " --> EPOCH: 24, Avg Training Loss: 0.3224, Avg Time Taken = 429.51ms\n"
          ]
        },
        {
          "output_type": "stream",
          "name": "stderr",
          "text": [
            "\n"
          ]
        },
        {
          "output_type": "stream",
          "name": "stdout",
          "text": [
            "\n",
            "Test set: Average loss: 0.7563, Accuracy: 7690/10000 (76.90%)\n",
            "\n",
            "---------- prev = 0.33556448817253115 current = 0.3224374294281006 ---------\n",
            "Epoch 26/100\n"
          ]
        },
        {
          "output_type": "stream",
          "name": "stderr",
          "text": [
            "Loss=0.3557409942150116 Batch_id=24 Accuracy=89.33: 100%|██████████| 25/25 [00:17<00:00,  1.47it/s]"
          ]
        },
        {
          "output_type": "stream",
          "name": "stdout",
          "text": [
            " --> EPOCH: 25, Avg Training Loss: 0.3090, Avg Time Taken = 427.88ms\n"
          ]
        },
        {
          "output_type": "stream",
          "name": "stderr",
          "text": [
            "\n"
          ]
        },
        {
          "output_type": "stream",
          "name": "stdout",
          "text": [
            "\n",
            "Test set: Average loss: 0.6971, Accuracy: 7838/10000 (78.38%)\n",
            "\n",
            "---------- prev = 0.3224374294281006 current = 0.3089509832859039 ---------\n",
            "Epoch 27/100\n"
          ]
        },
        {
          "output_type": "stream",
          "name": "stderr",
          "text": [
            "Loss=0.2627030909061432 Batch_id=24 Accuracy=90.14: 100%|██████████| 25/25 [00:18<00:00,  1.38it/s]"
          ]
        },
        {
          "output_type": "stream",
          "name": "stdout",
          "text": [
            " --> EPOCH: 26, Avg Training Loss: 0.2847, Avg Time Taken = 428.39ms\n"
          ]
        },
        {
          "output_type": "stream",
          "name": "stderr",
          "text": [
            "\n"
          ]
        },
        {
          "output_type": "stream",
          "name": "stdout",
          "text": [
            "\n",
            "Test set: Average loss: 0.6992, Accuracy: 7767/10000 (77.67%)\n",
            "\n",
            "Epoch 28/100\n"
          ]
        },
        {
          "output_type": "stream",
          "name": "stderr",
          "text": [
            "Loss=0.2679571807384491 Batch_id=24 Accuracy=90.61: 100%|██████████| 25/25 [00:17<00:00,  1.45it/s]"
          ]
        },
        {
          "output_type": "stream",
          "name": "stdout",
          "text": [
            " --> EPOCH: 27, Avg Training Loss: 0.2701, Avg Time Taken = 428.03ms\n"
          ]
        },
        {
          "output_type": "stream",
          "name": "stderr",
          "text": [
            "\n"
          ]
        },
        {
          "output_type": "stream",
          "name": "stdout",
          "text": [
            "\n",
            "Test set: Average loss: 0.7986, Accuracy: 7638/10000 (76.38%)\n",
            "\n",
            "---------- prev = 0.2846775817871094 current = 0.27013249933719635 ---------\n",
            "Epoch 29/100\n"
          ]
        },
        {
          "output_type": "stream",
          "name": "stderr",
          "text": [
            "Loss=0.2750738561153412 Batch_id=24 Accuracy=91.07: 100%|██████████| 25/25 [00:16<00:00,  1.47it/s]"
          ]
        },
        {
          "output_type": "stream",
          "name": "stdout",
          "text": [
            " --> EPOCH: 28, Avg Training Loss: 0.2627, Avg Time Taken = 431.52ms\n"
          ]
        },
        {
          "output_type": "stream",
          "name": "stderr",
          "text": [
            "\n"
          ]
        },
        {
          "output_type": "stream",
          "name": "stdout",
          "text": [
            "\n",
            "Test set: Average loss: 0.6986, Accuracy: 7880/10000 (78.80%)\n",
            "\n",
            "---------- prev = 0.27013249933719635 current = 0.26270510017871856 ---------\n",
            "Epoch 30/100\n"
          ]
        },
        {
          "output_type": "stream",
          "name": "stderr",
          "text": [
            "Loss=0.24570909142494202 Batch_id=24 Accuracy=91.66: 100%|██████████| 25/25 [00:17<00:00,  1.47it/s]"
          ]
        },
        {
          "output_type": "stream",
          "name": "stdout",
          "text": [
            " --> EPOCH: 29, Avg Training Loss: 0.2451, Avg Time Taken = 429.83ms\n"
          ]
        },
        {
          "output_type": "stream",
          "name": "stderr",
          "text": [
            "\n"
          ]
        },
        {
          "output_type": "stream",
          "name": "stdout",
          "text": [
            "\n",
            "Test set: Average loss: 0.7485, Accuracy: 7804/10000 (78.04%)\n",
            "\n",
            "---------- prev = 0.26270510017871856 current = 0.24509883403778077 ---------\n",
            "Epoch 31/100\n"
          ]
        },
        {
          "output_type": "stream",
          "name": "stderr",
          "text": [
            "Loss=0.2544326186180115 Batch_id=24 Accuracy=91.71: 100%|██████████| 25/25 [00:18<00:00,  1.38it/s]"
          ]
        },
        {
          "output_type": "stream",
          "name": "stdout",
          "text": [
            " --> EPOCH: 30, Avg Training Loss: 0.2412, Avg Time Taken = 428.61ms\n"
          ]
        },
        {
          "output_type": "stream",
          "name": "stderr",
          "text": [
            "\n"
          ]
        },
        {
          "output_type": "stream",
          "name": "stdout",
          "text": [
            "\n",
            "Test set: Average loss: 0.7455, Accuracy: 7845/10000 (78.45%)\n",
            "\n",
            "---------- prev = 0.24509883403778077 current = 0.2411676061153412 ---------\n",
            "Epoch 32/100\n"
          ]
        },
        {
          "output_type": "stream",
          "name": "stderr",
          "text": [
            "Loss=0.21317756175994873 Batch_id=24 Accuracy=92.10: 100%|██████████| 25/25 [00:17<00:00,  1.39it/s]"
          ]
        },
        {
          "output_type": "stream",
          "name": "stdout",
          "text": [
            " --> EPOCH: 31, Avg Training Loss: 0.2304, Avg Time Taken = 429.03ms\n"
          ]
        },
        {
          "output_type": "stream",
          "name": "stderr",
          "text": [
            "\n"
          ]
        },
        {
          "output_type": "stream",
          "name": "stdout",
          "text": [
            "\n",
            "Test set: Average loss: 0.7414, Accuracy: 7891/10000 (78.91%)\n",
            "\n",
            "---------- prev = 0.2411676061153412 current = 0.2303864675760269 ---------\n",
            "Model saved at: /content/drive/MyDrive/EPAi_V5/model_heavy_acc_92.pth\n",
            "Early stopping triggered!\n"
          ]
        }
      ]
    },
    {
      "cell_type": "code",
      "source": [
        "model.load_state_dict(torch.load('/content/drive/MyDrive/EPAi_V5/model_heavy_acc_92.pth', weights_only=True))\n",
        "test(model, device, test_loader)"
      ],
      "metadata": {
        "colab": {
          "base_uri": "https://localhost:8080/"
        },
        "id": "XwjLKJLdAo8d",
        "outputId": "9a7ded58-60de-46d9-c694-f147585d5a79"
      },
      "execution_count": 6,
      "outputs": [
        {
          "output_type": "stream",
          "name": "stdout",
          "text": [
            "\n",
            "Test set: Average loss: 0.7414, Accuracy: 7891/10000 (78.91%)\n",
            "\n"
          ]
        },
        {
          "output_type": "execute_result",
          "data": {
            "text/plain": [
              "0.7414170166015625"
            ]
          },
          "metadata": {},
          "execution_count": 6
        }
      ]
    },
    {
      "cell_type": "code",
      "source": [
        "class StudentModel(nn.Module):\n",
        "    def __init__(self):\n",
        "        super(StudentModel, self).__init__()\n",
        "        self.conv01 = nn.Conv2d(3, 16, 3, bias=False, padding=1)\n",
        "        self.batch01 = nn.BatchNorm2d(num_features=16)\n",
        "\n",
        "        # ---- Lets take a skip connection\n",
        "        self.skip_conv1 = nn.Conv2d(16, 16, 3, padding=0, dilation=2)\n",
        "\n",
        "        self.conv02 = nn.Conv2d(16, 16, 3, bias=False,padding=1)\n",
        "        self.batch02 = nn.BatchNorm2d(num_features=16)\n",
        "        self.conv03 = nn.Conv2d(16, 16, 3, bias=False,padding=1)\n",
        "        self.batch03 = nn.BatchNorm2d(num_features=16)\n",
        "        self.conv04 = nn.Conv2d(16, 16, 3, bias=False,padding=1)\n",
        "        self.batch04 = nn.BatchNorm2d(num_features=16)\n",
        "        self.pool01 = nn.MaxPool2d(2, 2)                                #O=16\n",
        "        self.conv05 = nn.Conv2d(16, 16, 1, bias=False)\n",
        "\n",
        "        self.conv11 = nn.Conv2d(16, 32, 3, bias=False, padding=1)\n",
        "        self.batch11 = nn.BatchNorm2d(num_features=32)\n",
        "        self.conv12 = nn.Conv2d(32, 32, 3, bias=False, padding=1)\n",
        "        self.batch12 = nn.BatchNorm2d(num_features=32)\n",
        "        self.conv13 = nn.Conv2d(32, 32, 3, bias=False, padding=1)\n",
        "        self.batch13 = nn.BatchNorm2d(num_features=32)\n",
        "        self.conv14 = nn.Conv2d(32, 32, 3, bias=False, padding=1)\n",
        "        self.batch14 = nn.BatchNorm2d(num_features=32)\n",
        "        self.pool11 = nn.MaxPool2d(2, 2)                                #O=8\n",
        "        self.conv15 = nn.Conv2d(32, 32, 1, bias=False)\n",
        "\n",
        "        self.conv21 = nn.Conv2d(32, 64, 3, bias=False, padding=1)\n",
        "        self.batch21 = nn.BatchNorm2d(num_features=64)\n",
        "        self.conv22 = nn.Conv2d(64, 64, 3, bias=False, padding=1)\n",
        "        self.batch22 = nn.BatchNorm2d(num_features=64)\n",
        "        self.conv23 = nn.Conv2d(64, 64, 3, bias=False, padding=1)\n",
        "        self.batch23 = nn.BatchNorm2d(num_features=64)\n",
        "        self.conv24 = nn.Conv2d(64, 64, 3, bias=False, padding=1)\n",
        "        self.batch24 = nn.BatchNorm2d(num_features=64)\n",
        "        self.pool21 = nn.MaxPool2d(2, 2)                                #O=4\n",
        "        self.conv25 = nn.Conv2d(64, 64, 1, bias=False)\n",
        "\n",
        "        self.conv31 = nn.Conv2d(in_channels=64, out_channels=64, kernel_size=3, groups=64, bias = False, padding = 1)\n",
        "        self.convPV1= nn.Conv2d(in_channels=64, out_channels=128, kernel_size=1, bias = False, padding = 0)\n",
        "        self.batch31 = nn.BatchNorm2d(num_features=128)\n",
        "        self.conv32 = nn.Conv2d(in_channels=128, out_channels=128, kernel_size=3, groups=128, bias = False, padding = 1)\n",
        "        self.convPV2= nn.Conv2d(in_channels=128, out_channels=256, kernel_size=1, bias = False, padding = 0)\n",
        "        self.batch32 = nn.BatchNorm2d(num_features=256)\n",
        "\n",
        "\n",
        "        self.avg_pool = nn.AvgPool2d(kernel_size=4)\n",
        "        self.convx3 = nn.Conv2d(256, 10, 1, bias=False, padding=0)\n",
        "\n",
        "    def forward(self, x):\n",
        "        x = self.batch01(F.relu(self.conv01(x)))\n",
        "\n",
        "        # ---- Lets take a skip connection\n",
        "        skip_channels = self.skip_conv1(self.skip_conv1(self.skip_conv1(self.skip_conv1(x))))\n",
        "\n",
        "        x = self.batch02(F.relu(self.conv02(x)))\n",
        "        x = self.batch03(F.relu(self.conv03(x)))\n",
        "        x = self.batch04(F.relu(self.conv04(x)))\n",
        "        x = self.pool01(x)\n",
        "        x = self.conv05(x)\n",
        "        # ----------------------------------------------------------\n",
        "\n",
        "        # ---- Lets add the skip connection here\n",
        "        x = skip_channels + x\n",
        "\n",
        "        x = self.batch11(F.relu(self.conv11(x)))\n",
        "        x = self.batch12(F.relu(self.conv12(x)))\n",
        "        x = self.batch13(F.relu(self.conv13(x)))\n",
        "        x = self.batch14(F.relu(self.conv14(x)))\n",
        "        x = self.pool11(x)\n",
        "        x = self.conv15(x)\n",
        "        # ----------------------------------------------------------\n",
        "\n",
        "        x = self.batch21(F.relu(self.conv21(x)))\n",
        "        x = self.batch22(F.relu(self.conv22(x)))\n",
        "        x = self.batch23(F.relu(self.conv23(x)))\n",
        "        x = self.batch24(F.relu(self.conv24(x)))\n",
        "        x = self.pool21(x)\n",
        "        x = self.conv25(x)\n",
        "        # ----------------------------------------------------------\n",
        "\n",
        "        x = self.batch31(F.relu(self.convPV1(F.relu(self.conv31(x)))))\n",
        "        x = self.batch32(F.relu(self.convPV2(F.relu(self.conv32(x)))))\n",
        "\n",
        "\n",
        "        x = self.avg_pool(x)\n",
        "        x = self.convx3(x)\n",
        "        x = x.view(-1, 10)                           # Don't want 10x1x1..\n",
        "        return F.log_softmax(x, dim=1)  # Added dim=1 parameter)"
      ],
      "metadata": {
        "id": "cXV8NnClBdfj"
      },
      "execution_count": 7,
      "outputs": []
    },
    {
      "cell_type": "code",
      "source": [
        "from tqdm import tqdm\n",
        "\n",
        "train_losses = []\n",
        "test_losses = []\n",
        "train_acc = []\n",
        "test_acc = []\n",
        "time_taken = []\n",
        "\n",
        "class EarlyStopping:\n",
        "    def __init__(self, tolerance=5, min_delta=0.01):\n",
        "        self.tolerance = tolerance\n",
        "        self.min_delta = min_delta\n",
        "        self.prev_loss = None  # Initialize as None\n",
        "        self.counter = 0\n",
        "\n",
        "    def __call__(self, train_loss):\n",
        "        if self.prev_loss is None:  # First iteration\n",
        "            self.prev_loss = train_loss\n",
        "            return False  # Continue training\n",
        "\n",
        "        if (abs(train_loss - self.prev_loss)) < self.min_delta:\n",
        "            print(f'---------- prev = {self.prev_loss} current = {train_loss} ---------')\n",
        "            self.counter += 1\n",
        "        else:\n",
        "            self.counter = 0  # Reset counter if loss improves\n",
        "\n",
        "        self.prev_loss = train_loss\n",
        "\n",
        "        return self.counter >= self.tolerance  # Return True if stopping criteria met\n",
        "\n",
        "\n",
        "\n",
        "def train(model, device, train_loader, optimizer, epoch):\n",
        "    model.train()\n",
        "    pbar = tqdm(train_loader)\n",
        "\n",
        "    correct = 0\n",
        "    processed = 0\n",
        "    epoch_loss = 0\n",
        "    time_taken.clear()\n",
        "\n",
        "    for batch_idx, (data, target) in enumerate(pbar):\n",
        "        t0 = time.time()\n",
        "\n",
        "        data, target = data.to(device), target.to(device)\n",
        "\n",
        "        # Don't want history of gradients\n",
        "        optimizer.zero_grad()\n",
        "\n",
        "        y_predict = model(data)\n",
        "\n",
        "        # Calculate loss\n",
        "        loss = F.nll_loss(y_predict, target)\n",
        "        epoch_loss += loss.item()\n",
        "\n",
        "        # Backpropagate error\n",
        "        loss.backward()\n",
        "\n",
        "        # Take an optimizer step\n",
        "        optimizer.step()\n",
        "\n",
        "        torch.cuda.synchronize()\n",
        "        t1 = time.time()\n",
        "\n",
        "        time_taken.append((t1 - t0))\n",
        "\n",
        "        pred = y_predict.argmax(dim=1, keepdim=True)  # get the index of the max log-probability\n",
        "        correct += pred.eq(target.view_as(pred)).sum().item()\n",
        "        processed += len(data)\n",
        "\n",
        "        pbar.set_description(desc=f'Loss={loss.item()} Batch_id={batch_idx} Accuracy={100 * correct / processed:0.2f}')\n",
        "        train_acc.append(100 * correct / processed)\n",
        "\n",
        "    avg_train_loss = epoch_loss / len(train_loader)\n",
        "    train_losses.append(avg_train_loss)\n",
        "    return avg_train_loss\n",
        "\n",
        "\n",
        "def test(model, device, test_loader):\n",
        "    model.eval()\n",
        "\n",
        "    test_loss = 0\n",
        "    correct = 0\n",
        "\n",
        "    with torch.no_grad():\n",
        "        for data, target in test_loader:\n",
        "            data, target = data.to(device), target.to(device)\n",
        "\n",
        "            output = model(data)\n",
        "\n",
        "            test_loss += F.nll_loss(output, target, reduction='sum').item()  # sum up batch loss\n",
        "            pred = output.argmax(dim=1, keepdim=True)  # get the index of the max log-probability\n",
        "            correct += pred.eq(target.view_as(pred)).sum().item()\n",
        "\n",
        "    test_loss /= len(test_loader.dataset)\n",
        "    test_losses.append(test_loss)\n",
        "\n",
        "    print('\\nTest set: Average loss: {:.4f}, Accuracy: {}/{} ({:.2f}%)\\n'.format(\n",
        "        test_loss, correct, len(test_loader.dataset),\n",
        "        100. * correct / len(test_loader.dataset)))\n",
        "\n",
        "    test_acc.append(100. * correct / len(test_loader.dataset))\n",
        "    return test_loss"
      ],
      "metadata": {
        "id": "CZfihPseBk1x"
      },
      "execution_count": 8,
      "outputs": []
    },
    {
      "cell_type": "code",
      "source": [
        "# Initialize model, optimizer, and early stopping\n",
        "device = torch.device(\"cuda\" if torch.cuda.is_available() else \"cpu\")\n",
        "print (f'Device Using = {device}')\n",
        "model = StudentModel().to(device)\n",
        "summary(model, input_size=(3, 32, 32))\n",
        "criteria = nn.CrossEntropyLoss()\n",
        "optimizer = optim.SGD(model.parameters(), lr=0.01, momentum=0.9)\n",
        "early_stopping = EarlyStopping(tolerance=5, min_delta=0.02)\n",
        "\n",
        "EPOCHS = 100\n",
        "for epoch in range(EPOCHS):\n",
        "    print(f\"Epoch {epoch + 1}/{EPOCHS}\")\n",
        "    avg_train_loss = train(model, device, train_loader, optimizer, epoch)\n",
        "    print(f\" --> EPOCH: {epoch}, Avg Training Loss: {avg_train_loss:.4f}, Avg Time Taken = {(sum(time_taken) / len(time_taken)) * 1000:.2f}ms\")\n",
        "    val_loss = test(model, device, test_loader)\n",
        "\n",
        "    # Check for early stopping\n",
        "    if early_stopping(avg_train_loss):\n",
        "        try:\n",
        "            # Ensure the directory exists\n",
        "            save_dir = '/content/drive/MyDrive/EPAi_V5'\n",
        "            os.makedirs(save_dir, exist_ok=True)\n",
        "            PATH = os.path.join(save_dir, f'model_small_acc_{int(train_acc[-1]):d}.pth')\n",
        "        except OSError:\n",
        "            # Fallback to current directory if Drive is unavailable\n",
        "            PATH = f'./model_small_acc_{int(train_acc[-1]):d}.pth'\n",
        "\n",
        "        # Save the model weights\n",
        "        torch.save(model.state_dict(), PATH)\n",
        "        print(f\"Model saved at: {PATH}\")\n",
        "        print(\"Early stopping triggered!\")\n",
        "        break"
      ],
      "metadata": {
        "id": "iwjgpkhj1zhl",
        "colab": {
          "base_uri": "https://localhost:8080/"
        },
        "outputId": "17b5ebc0-7fe8-48c4-e831-1e1dafe2c5fd"
      },
      "execution_count": 9,
      "outputs": [
        {
          "output_type": "stream",
          "name": "stdout",
          "text": [
            "Device Using = cuda\n",
            "----------------------------------------------------------------\n",
            "        Layer (type)               Output Shape         Param #\n",
            "================================================================\n",
            "            Conv2d-1           [-1, 16, 32, 32]             432\n",
            "       BatchNorm2d-2           [-1, 16, 32, 32]              32\n",
            "            Conv2d-3           [-1, 16, 28, 28]           2,320\n",
            "            Conv2d-4           [-1, 16, 24, 24]           2,320\n",
            "            Conv2d-5           [-1, 16, 20, 20]           2,320\n",
            "            Conv2d-6           [-1, 16, 16, 16]           2,320\n",
            "            Conv2d-7           [-1, 16, 32, 32]           2,304\n",
            "       BatchNorm2d-8           [-1, 16, 32, 32]              32\n",
            "            Conv2d-9           [-1, 16, 32, 32]           2,304\n",
            "      BatchNorm2d-10           [-1, 16, 32, 32]              32\n",
            "           Conv2d-11           [-1, 16, 32, 32]           2,304\n",
            "      BatchNorm2d-12           [-1, 16, 32, 32]              32\n",
            "        MaxPool2d-13           [-1, 16, 16, 16]               0\n",
            "           Conv2d-14           [-1, 16, 16, 16]             256\n",
            "           Conv2d-15           [-1, 32, 16, 16]           4,608\n",
            "      BatchNorm2d-16           [-1, 32, 16, 16]              64\n",
            "           Conv2d-17           [-1, 32, 16, 16]           9,216\n",
            "      BatchNorm2d-18           [-1, 32, 16, 16]              64\n",
            "           Conv2d-19           [-1, 32, 16, 16]           9,216\n",
            "      BatchNorm2d-20           [-1, 32, 16, 16]              64\n",
            "           Conv2d-21           [-1, 32, 16, 16]           9,216\n",
            "      BatchNorm2d-22           [-1, 32, 16, 16]              64\n",
            "        MaxPool2d-23             [-1, 32, 8, 8]               0\n",
            "           Conv2d-24             [-1, 32, 8, 8]           1,024\n",
            "           Conv2d-25             [-1, 64, 8, 8]          18,432\n",
            "      BatchNorm2d-26             [-1, 64, 8, 8]             128\n",
            "           Conv2d-27             [-1, 64, 8, 8]          36,864\n",
            "      BatchNorm2d-28             [-1, 64, 8, 8]             128\n",
            "           Conv2d-29             [-1, 64, 8, 8]          36,864\n",
            "      BatchNorm2d-30             [-1, 64, 8, 8]             128\n",
            "           Conv2d-31             [-1, 64, 8, 8]          36,864\n",
            "      BatchNorm2d-32             [-1, 64, 8, 8]             128\n",
            "        MaxPool2d-33             [-1, 64, 4, 4]               0\n",
            "           Conv2d-34             [-1, 64, 4, 4]           4,096\n",
            "           Conv2d-35             [-1, 64, 4, 4]             576\n",
            "           Conv2d-36            [-1, 128, 4, 4]           8,192\n",
            "      BatchNorm2d-37            [-1, 128, 4, 4]             256\n",
            "           Conv2d-38            [-1, 128, 4, 4]           1,152\n",
            "           Conv2d-39            [-1, 256, 4, 4]          32,768\n",
            "      BatchNorm2d-40            [-1, 256, 4, 4]             512\n",
            "        AvgPool2d-41            [-1, 256, 1, 1]               0\n",
            "           Conv2d-42             [-1, 10, 1, 1]           2,560\n",
            "================================================================\n",
            "Total params: 230,192\n",
            "Trainable params: 230,192\n",
            "Non-trainable params: 0\n",
            "----------------------------------------------------------------\n",
            "Input size (MB): 0.01\n",
            "Forward/backward pass size (MB): 2.22\n",
            "Params size (MB): 0.88\n",
            "Estimated Total Size (MB): 3.11\n",
            "----------------------------------------------------------------\n",
            "Epoch 1/100\n"
          ]
        },
        {
          "output_type": "stream",
          "name": "stderr",
          "text": [
            "Loss=1.839409351348877 Batch_id=24 Accuracy=19.72: 100%|██████████| 25/25 [00:16<00:00,  1.55it/s]"
          ]
        },
        {
          "output_type": "stream",
          "name": "stdout",
          "text": [
            " --> EPOCH: 0, Avg Training Loss: 2.1232, Avg Time Taken = 342.92ms\n"
          ]
        },
        {
          "output_type": "stream",
          "name": "stderr",
          "text": [
            "\n"
          ]
        },
        {
          "output_type": "stream",
          "name": "stdout",
          "text": [
            "\n",
            "Test set: Average loss: 2.2944, Accuracy: 998/10000 (9.98%)\n",
            "\n",
            "Epoch 2/100\n"
          ]
        },
        {
          "output_type": "stream",
          "name": "stderr",
          "text": [
            "Loss=1.6231263875961304 Batch_id=24 Accuracy=36.33: 100%|██████████| 25/25 [00:17<00:00,  1.45it/s]"
          ]
        },
        {
          "output_type": "stream",
          "name": "stdout",
          "text": [
            " --> EPOCH: 1, Avg Training Loss: 1.6994, Avg Time Taken = 341.14ms\n"
          ]
        },
        {
          "output_type": "stream",
          "name": "stderr",
          "text": [
            "\n"
          ]
        },
        {
          "output_type": "stream",
          "name": "stdout",
          "text": [
            "\n",
            "Test set: Average loss: 1.6074, Accuracy: 4080/10000 (40.80%)\n",
            "\n",
            "Epoch 3/100\n"
          ]
        },
        {
          "output_type": "stream",
          "name": "stderr",
          "text": [
            "Loss=1.4510281085968018 Batch_id=24 Accuracy=45.22: 100%|██████████| 25/25 [00:16<00:00,  1.48it/s]"
          ]
        },
        {
          "output_type": "stream",
          "name": "stdout",
          "text": [
            " --> EPOCH: 2, Avg Training Loss: 1.4865, Avg Time Taken = 333.43ms\n"
          ]
        },
        {
          "output_type": "stream",
          "name": "stderr",
          "text": [
            "\n"
          ]
        },
        {
          "output_type": "stream",
          "name": "stdout",
          "text": [
            "\n",
            "Test set: Average loss: 1.5061, Accuracy: 4478/10000 (44.78%)\n",
            "\n",
            "Epoch 4/100\n"
          ]
        },
        {
          "output_type": "stream",
          "name": "stderr",
          "text": [
            "Loss=1.2703484296798706 Batch_id=24 Accuracy=50.72: 100%|██████████| 25/25 [00:16<00:00,  1.53it/s]"
          ]
        },
        {
          "output_type": "stream",
          "name": "stdout",
          "text": [
            " --> EPOCH: 3, Avg Training Loss: 1.3461, Avg Time Taken = 332.31ms\n"
          ]
        },
        {
          "output_type": "stream",
          "name": "stderr",
          "text": [
            "\n"
          ]
        },
        {
          "output_type": "stream",
          "name": "stdout",
          "text": [
            "\n",
            "Test set: Average loss: 1.4149, Accuracy: 4999/10000 (49.99%)\n",
            "\n",
            "Epoch 5/100\n"
          ]
        },
        {
          "output_type": "stream",
          "name": "stderr",
          "text": [
            "Loss=1.0891814231872559 Batch_id=24 Accuracy=54.58: 100%|██████████| 25/25 [00:16<00:00,  1.52it/s]"
          ]
        },
        {
          "output_type": "stream",
          "name": "stdout",
          "text": [
            " --> EPOCH: 4, Avg Training Loss: 1.2475, Avg Time Taken = 336.23ms\n"
          ]
        },
        {
          "output_type": "stream",
          "name": "stderr",
          "text": [
            "\n"
          ]
        },
        {
          "output_type": "stream",
          "name": "stdout",
          "text": [
            "\n",
            "Test set: Average loss: 1.2892, Accuracy: 5345/10000 (53.45%)\n",
            "\n",
            "Epoch 6/100\n"
          ]
        },
        {
          "output_type": "stream",
          "name": "stderr",
          "text": [
            "Loss=1.1289831399917603 Batch_id=24 Accuracy=58.19: 100%|██████████| 25/25 [00:16<00:00,  1.52it/s]"
          ]
        },
        {
          "output_type": "stream",
          "name": "stdout",
          "text": [
            " --> EPOCH: 5, Avg Training Loss: 1.1631, Avg Time Taken = 338.79ms\n"
          ]
        },
        {
          "output_type": "stream",
          "name": "stderr",
          "text": [
            "\n"
          ]
        },
        {
          "output_type": "stream",
          "name": "stdout",
          "text": [
            "\n",
            "Test set: Average loss: 1.2490, Accuracy: 5582/10000 (55.82%)\n",
            "\n",
            "Epoch 7/100\n"
          ]
        },
        {
          "output_type": "stream",
          "name": "stderr",
          "text": [
            "Loss=1.046385407447815 Batch_id=24 Accuracy=60.31: 100%|██████████| 25/25 [00:16<00:00,  1.52it/s]"
          ]
        },
        {
          "output_type": "stream",
          "name": "stdout",
          "text": [
            " --> EPOCH: 6, Avg Training Loss: 1.1034, Avg Time Taken = 335.35ms\n"
          ]
        },
        {
          "output_type": "stream",
          "name": "stderr",
          "text": [
            "\n"
          ]
        },
        {
          "output_type": "stream",
          "name": "stdout",
          "text": [
            "\n",
            "Test set: Average loss: 1.1784, Accuracy: 5824/10000 (58.24%)\n",
            "\n",
            "Epoch 8/100\n"
          ]
        },
        {
          "output_type": "stream",
          "name": "stderr",
          "text": [
            "Loss=1.0095020532608032 Batch_id=24 Accuracy=62.77: 100%|██████████| 25/25 [00:16<00:00,  1.53it/s]"
          ]
        },
        {
          "output_type": "stream",
          "name": "stdout",
          "text": [
            " --> EPOCH: 7, Avg Training Loss: 1.0367, Avg Time Taken = 334.90ms\n"
          ]
        },
        {
          "output_type": "stream",
          "name": "stderr",
          "text": [
            "\n"
          ]
        },
        {
          "output_type": "stream",
          "name": "stdout",
          "text": [
            "\n",
            "Test set: Average loss: 1.0438, Accuracy: 6294/10000 (62.94%)\n",
            "\n",
            "Epoch 9/100\n"
          ]
        },
        {
          "output_type": "stream",
          "name": "stderr",
          "text": [
            "Loss=0.9633558988571167 Batch_id=24 Accuracy=65.29: 100%|██████████| 25/25 [00:16<00:00,  1.51it/s]"
          ]
        },
        {
          "output_type": "stream",
          "name": "stdout",
          "text": [
            " --> EPOCH: 8, Avg Training Loss: 0.9727, Avg Time Taken = 336.57ms\n"
          ]
        },
        {
          "output_type": "stream",
          "name": "stderr",
          "text": [
            "\n"
          ]
        },
        {
          "output_type": "stream",
          "name": "stdout",
          "text": [
            "\n",
            "Test set: Average loss: 1.0176, Accuracy: 6326/10000 (63.26%)\n",
            "\n",
            "Epoch 10/100\n"
          ]
        },
        {
          "output_type": "stream",
          "name": "stderr",
          "text": [
            "Loss=0.9215368628501892 Batch_id=24 Accuracy=66.87: 100%|██████████| 25/25 [00:16<00:00,  1.54it/s]"
          ]
        },
        {
          "output_type": "stream",
          "name": "stdout",
          "text": [
            " --> EPOCH: 9, Avg Training Loss: 0.9314, Avg Time Taken = 336.92ms\n"
          ]
        },
        {
          "output_type": "stream",
          "name": "stderr",
          "text": [
            "\n"
          ]
        },
        {
          "output_type": "stream",
          "name": "stdout",
          "text": [
            "\n",
            "Test set: Average loss: 0.9417, Accuracy: 6658/10000 (66.58%)\n",
            "\n",
            "Epoch 11/100\n"
          ]
        },
        {
          "output_type": "stream",
          "name": "stderr",
          "text": [
            "Loss=0.8912086486816406 Batch_id=24 Accuracy=68.56: 100%|██████████| 25/25 [00:16<00:00,  1.49it/s]"
          ]
        },
        {
          "output_type": "stream",
          "name": "stdout",
          "text": [
            " --> EPOCH: 10, Avg Training Loss: 0.8809, Avg Time Taken = 339.47ms\n"
          ]
        },
        {
          "output_type": "stream",
          "name": "stderr",
          "text": [
            "\n"
          ]
        },
        {
          "output_type": "stream",
          "name": "stdout",
          "text": [
            "\n",
            "Test set: Average loss: 0.9288, Accuracy: 6737/10000 (67.37%)\n",
            "\n",
            "Epoch 12/100\n"
          ]
        },
        {
          "output_type": "stream",
          "name": "stderr",
          "text": [
            "Loss=0.8185917735099792 Batch_id=24 Accuracy=70.43: 100%|██████████| 25/25 [00:16<00:00,  1.53it/s]"
          ]
        },
        {
          "output_type": "stream",
          "name": "stdout",
          "text": [
            " --> EPOCH: 11, Avg Training Loss: 0.8329, Avg Time Taken = 336.72ms\n"
          ]
        },
        {
          "output_type": "stream",
          "name": "stderr",
          "text": [
            "\n"
          ]
        },
        {
          "output_type": "stream",
          "name": "stdout",
          "text": [
            "\n",
            "Test set: Average loss: 0.9871, Accuracy: 6612/10000 (66.12%)\n",
            "\n",
            "Epoch 13/100\n"
          ]
        },
        {
          "output_type": "stream",
          "name": "stderr",
          "text": [
            "Loss=0.8015299439430237 Batch_id=24 Accuracy=71.58: 100%|██████████| 25/25 [00:17<00:00,  1.46it/s]"
          ]
        },
        {
          "output_type": "stream",
          "name": "stdout",
          "text": [
            " --> EPOCH: 12, Avg Training Loss: 0.8017, Avg Time Taken = 335.48ms\n"
          ]
        },
        {
          "output_type": "stream",
          "name": "stderr",
          "text": [
            "\n"
          ]
        },
        {
          "output_type": "stream",
          "name": "stdout",
          "text": [
            "\n",
            "Test set: Average loss: 0.8578, Accuracy: 6995/10000 (69.95%)\n",
            "\n",
            "Epoch 14/100\n"
          ]
        },
        {
          "output_type": "stream",
          "name": "stderr",
          "text": [
            "Loss=0.7465499043464661 Batch_id=24 Accuracy=72.99: 100%|██████████| 25/25 [00:16<00:00,  1.55it/s]"
          ]
        },
        {
          "output_type": "stream",
          "name": "stdout",
          "text": [
            " --> EPOCH: 13, Avg Training Loss: 0.7707, Avg Time Taken = 336.59ms\n"
          ]
        },
        {
          "output_type": "stream",
          "name": "stderr",
          "text": [
            "\n"
          ]
        },
        {
          "output_type": "stream",
          "name": "stdout",
          "text": [
            "\n",
            "Test set: Average loss: 0.8662, Accuracy: 7012/10000 (70.12%)\n",
            "\n",
            "Epoch 15/100\n"
          ]
        },
        {
          "output_type": "stream",
          "name": "stderr",
          "text": [
            "Loss=0.7175785899162292 Batch_id=24 Accuracy=73.92: 100%|██████████| 25/25 [00:17<00:00,  1.45it/s]"
          ]
        },
        {
          "output_type": "stream",
          "name": "stdout",
          "text": [
            " --> EPOCH: 14, Avg Training Loss: 0.7418, Avg Time Taken = 336.46ms\n"
          ]
        },
        {
          "output_type": "stream",
          "name": "stderr",
          "text": [
            "\n"
          ]
        },
        {
          "output_type": "stream",
          "name": "stdout",
          "text": [
            "\n",
            "Test set: Average loss: 0.8718, Accuracy: 7024/10000 (70.24%)\n",
            "\n",
            "Epoch 16/100\n"
          ]
        },
        {
          "output_type": "stream",
          "name": "stderr",
          "text": [
            "Loss=0.7081397175788879 Batch_id=24 Accuracy=74.78: 100%|██████████| 25/25 [00:16<00:00,  1.55it/s]"
          ]
        },
        {
          "output_type": "stream",
          "name": "stdout",
          "text": [
            " --> EPOCH: 15, Avg Training Loss: 0.7179, Avg Time Taken = 336.56ms\n"
          ]
        },
        {
          "output_type": "stream",
          "name": "stderr",
          "text": [
            "\n"
          ]
        },
        {
          "output_type": "stream",
          "name": "stdout",
          "text": [
            "\n",
            "Test set: Average loss: 0.8439, Accuracy: 7085/10000 (70.85%)\n",
            "\n",
            "Epoch 17/100\n"
          ]
        },
        {
          "output_type": "stream",
          "name": "stderr",
          "text": [
            "Loss=0.7096620798110962 Batch_id=24 Accuracy=75.60: 100%|██████████| 25/25 [00:17<00:00,  1.46it/s]"
          ]
        },
        {
          "output_type": "stream",
          "name": "stdout",
          "text": [
            " --> EPOCH: 16, Avg Training Loss: 0.6938, Avg Time Taken = 334.90ms\n"
          ]
        },
        {
          "output_type": "stream",
          "name": "stderr",
          "text": [
            "\n"
          ]
        },
        {
          "output_type": "stream",
          "name": "stdout",
          "text": [
            "\n",
            "Test set: Average loss: 0.7778, Accuracy: 7344/10000 (73.44%)\n",
            "\n",
            "Epoch 18/100\n"
          ]
        },
        {
          "output_type": "stream",
          "name": "stderr",
          "text": [
            "Loss=0.7124909162521362 Batch_id=24 Accuracy=76.71: 100%|██████████| 25/25 [00:16<00:00,  1.55it/s]"
          ]
        },
        {
          "output_type": "stream",
          "name": "stdout",
          "text": [
            " --> EPOCH: 17, Avg Training Loss: 0.6645, Avg Time Taken = 335.87ms\n"
          ]
        },
        {
          "output_type": "stream",
          "name": "stderr",
          "text": [
            "\n"
          ]
        },
        {
          "output_type": "stream",
          "name": "stdout",
          "text": [
            "\n",
            "Test set: Average loss: 0.8050, Accuracy: 7238/10000 (72.38%)\n",
            "\n",
            "Epoch 19/100\n"
          ]
        },
        {
          "output_type": "stream",
          "name": "stderr",
          "text": [
            "Loss=0.6205840110778809 Batch_id=24 Accuracy=77.70: 100%|██████████| 25/25 [00:16<00:00,  1.51it/s]"
          ]
        },
        {
          "output_type": "stream",
          "name": "stdout",
          "text": [
            " --> EPOCH: 18, Avg Training Loss: 0.6393, Avg Time Taken = 335.28ms\n"
          ]
        },
        {
          "output_type": "stream",
          "name": "stderr",
          "text": [
            "\n"
          ]
        },
        {
          "output_type": "stream",
          "name": "stdout",
          "text": [
            "\n",
            "Test set: Average loss: 0.7403, Accuracy: 7448/10000 (74.48%)\n",
            "\n",
            "Epoch 20/100\n"
          ]
        },
        {
          "output_type": "stream",
          "name": "stderr",
          "text": [
            "Loss=0.5964459180831909 Batch_id=24 Accuracy=78.29: 100%|██████████| 25/25 [00:16<00:00,  1.55it/s]"
          ]
        },
        {
          "output_type": "stream",
          "name": "stdout",
          "text": [
            " --> EPOCH: 19, Avg Training Loss: 0.6189, Avg Time Taken = 336.73ms\n"
          ]
        },
        {
          "output_type": "stream",
          "name": "stderr",
          "text": [
            "\n"
          ]
        },
        {
          "output_type": "stream",
          "name": "stdout",
          "text": [
            "\n",
            "Test set: Average loss: 0.7596, Accuracy: 7387/10000 (73.87%)\n",
            "\n",
            "Epoch 21/100\n"
          ]
        },
        {
          "output_type": "stream",
          "name": "stderr",
          "text": [
            "Loss=0.610698938369751 Batch_id=24 Accuracy=79.03: 100%|██████████| 25/25 [00:17<00:00,  1.42it/s]"
          ]
        },
        {
          "output_type": "stream",
          "name": "stdout",
          "text": [
            " --> EPOCH: 20, Avg Training Loss: 0.5962, Avg Time Taken = 334.92ms\n"
          ]
        },
        {
          "output_type": "stream",
          "name": "stderr",
          "text": [
            "\n"
          ]
        },
        {
          "output_type": "stream",
          "name": "stdout",
          "text": [
            "\n",
            "Test set: Average loss: 0.7527, Accuracy: 7440/10000 (74.40%)\n",
            "\n",
            "Epoch 22/100\n"
          ]
        },
        {
          "output_type": "stream",
          "name": "stderr",
          "text": [
            "Loss=0.5598589181900024 Batch_id=24 Accuracy=79.42: 100%|██████████| 25/25 [00:16<00:00,  1.54it/s]"
          ]
        },
        {
          "output_type": "stream",
          "name": "stdout",
          "text": [
            " --> EPOCH: 21, Avg Training Loss: 0.5833, Avg Time Taken = 333.95ms\n"
          ]
        },
        {
          "output_type": "stream",
          "name": "stderr",
          "text": [
            "\n"
          ]
        },
        {
          "output_type": "stream",
          "name": "stdout",
          "text": [
            "\n",
            "Test set: Average loss: 0.7510, Accuracy: 7465/10000 (74.65%)\n",
            "\n",
            "---------- prev = 0.596239652633667 current = 0.5832714319229126 ---------\n",
            "Epoch 23/100\n"
          ]
        },
        {
          "output_type": "stream",
          "name": "stderr",
          "text": [
            "Loss=0.5501305460929871 Batch_id=24 Accuracy=80.18: 100%|██████████| 25/25 [00:16<00:00,  1.53it/s]"
          ]
        },
        {
          "output_type": "stream",
          "name": "stdout",
          "text": [
            " --> EPOCH: 22, Avg Training Loss: 0.5660, Avg Time Taken = 335.76ms\n"
          ]
        },
        {
          "output_type": "stream",
          "name": "stderr",
          "text": [
            "\n"
          ]
        },
        {
          "output_type": "stream",
          "name": "stdout",
          "text": [
            "\n",
            "Test set: Average loss: 0.7475, Accuracy: 7447/10000 (74.47%)\n",
            "\n",
            "---------- prev = 0.5832714319229126 current = 0.5659991955757141 ---------\n",
            "Epoch 24/100\n"
          ]
        },
        {
          "output_type": "stream",
          "name": "stderr",
          "text": [
            "Loss=0.5897893309593201 Batch_id=24 Accuracy=80.50: 100%|██████████| 25/25 [00:16<00:00,  1.55it/s]"
          ]
        },
        {
          "output_type": "stream",
          "name": "stdout",
          "text": [
            " --> EPOCH: 23, Avg Training Loss: 0.5526, Avg Time Taken = 338.42ms\n"
          ]
        },
        {
          "output_type": "stream",
          "name": "stderr",
          "text": [
            "\n"
          ]
        },
        {
          "output_type": "stream",
          "name": "stdout",
          "text": [
            "\n",
            "Test set: Average loss: 0.7181, Accuracy: 7549/10000 (75.49%)\n",
            "\n",
            "---------- prev = 0.5659991955757141 current = 0.5526035451889038 ---------\n",
            "Epoch 25/100\n"
          ]
        },
        {
          "output_type": "stream",
          "name": "stderr",
          "text": [
            "Loss=0.5340969562530518 Batch_id=24 Accuracy=81.42: 100%|██████████| 25/25 [00:16<00:00,  1.54it/s]"
          ]
        },
        {
          "output_type": "stream",
          "name": "stdout",
          "text": [
            " --> EPOCH: 24, Avg Training Loss: 0.5336, Avg Time Taken = 336.70ms\n"
          ]
        },
        {
          "output_type": "stream",
          "name": "stderr",
          "text": [
            "\n"
          ]
        },
        {
          "output_type": "stream",
          "name": "stdout",
          "text": [
            "\n",
            "Test set: Average loss: 0.7186, Accuracy: 7558/10000 (75.58%)\n",
            "\n",
            "---------- prev = 0.5526035451889038 current = 0.5336136102676392 ---------\n",
            "Epoch 26/100\n"
          ]
        },
        {
          "output_type": "stream",
          "name": "stderr",
          "text": [
            "Loss=0.5731205344200134 Batch_id=24 Accuracy=81.76: 100%|██████████| 25/25 [00:16<00:00,  1.53it/s]"
          ]
        },
        {
          "output_type": "stream",
          "name": "stdout",
          "text": [
            " --> EPOCH: 25, Avg Training Loss: 0.5237, Avg Time Taken = 334.28ms\n"
          ]
        },
        {
          "output_type": "stream",
          "name": "stderr",
          "text": [
            "\n"
          ]
        },
        {
          "output_type": "stream",
          "name": "stdout",
          "text": [
            "\n",
            "Test set: Average loss: 0.7493, Accuracy: 7525/10000 (75.25%)\n",
            "\n",
            "---------- prev = 0.5336136102676392 current = 0.5237028408050537 ---------\n",
            "Model saved at: /content/drive/MyDrive/EPAi_V5/model_small_acc_81.pth\n",
            "Early stopping triggered!\n"
          ]
        }
      ]
    },
    {
      "cell_type": "code",
      "source": [
        "model.load_state_dict(torch.load('/content/drive/MyDrive/EPAi_V5/model_small_acc_81.pth', weights_only=True))\n",
        "test(model, device, test_loader)"
      ],
      "metadata": {
        "colab": {
          "base_uri": "https://localhost:8080/"
        },
        "id": "IHwivY2wd0WI",
        "outputId": "ddbbab67-a9c8-4e32-e479-6afbef8b3243"
      },
      "execution_count": 10,
      "outputs": [
        {
          "output_type": "stream",
          "name": "stdout",
          "text": [
            "\n",
            "Test set: Average loss: 0.7493, Accuracy: 7525/10000 (75.25%)\n",
            "\n"
          ]
        },
        {
          "output_type": "execute_result",
          "data": {
            "text/plain": [
              "0.74932431640625"
            ]
          },
          "metadata": {},
          "execution_count": 10
        }
      ]
    },
    {
      "cell_type": "markdown",
      "source": [
        "# Distillation Process"
      ],
      "metadata": {
        "id": "6KbNLvnQgu3V"
      }
    },
    {
      "cell_type": "code",
      "source": [
        "class EarlyStopping:\n",
        "    def __init__(self, tolerance=5, min_delta=0.01):\n",
        "        self.tolerance = tolerance\n",
        "        self.min_delta = min_delta\n",
        "        self.prev_loss = None  # Initialize as None\n",
        "        self.counter = 0\n",
        "\n",
        "    def __call__(self, train_loss):\n",
        "        if self.prev_loss is None:  # First iteration\n",
        "            self.prev_loss = train_loss\n",
        "            return False  # Continue training\n",
        "\n",
        "        if (abs(train_loss - self.prev_loss)) < self.min_delta:\n",
        "            print(f'---------- prev = {self.prev_loss} current = {train_loss} ---------')\n",
        "            self.counter += 1\n",
        "        else:\n",
        "            self.counter = 0  # Reset counter if loss improves\n",
        "\n",
        "        self.prev_loss = train_loss\n",
        "\n",
        "        return self.counter >= self.tolerance  # Return True if stopping criteria met\n",
        "\n",
        "train_losses = []\n",
        "test_losses = []\n",
        "train_acc = []\n",
        "test_acc = []\n",
        "time_taken = []\n",
        "\n",
        "device = torch.device(\"cuda\" if torch.cuda.is_available() else \"cpu\")\n",
        "print(f'Using device = {device}')\n",
        "\n",
        "# Prepare teacher model\n",
        "teacher = TeacherModel().to(device)\n",
        "teacher.load_state_dict(torch.load('/content/drive/MyDrive/EPAi_V5/model_heavy_acc_92.pth', weights_only=True))\n",
        "teacher.eval()\n",
        "\n",
        "# Prepare student model\n",
        "student = StudentModel().to(device)\n",
        "student.load_state_dict(torch.load('/content/drive/MyDrive/EPAi_V5/model_small_acc_81.pth', weights_only=True))\n",
        "\n",
        "print(\"=============================================\")\n",
        "print(\"Student model accuracy before training \")\n",
        "student.eval()\n",
        "test(student, device, test_loader)\n",
        "print(\"=============================================\")\n",
        "\n",
        "# Loss functions\n",
        "hard_loss = nn.CrossEntropyLoss() #Hard label loss\n",
        "soft_loss = nn.KLDivLoss(reduction=\"batchmean\")  # Distillation loss\n",
        "\n",
        "# Temperature and alpha\n",
        "T = 5.0  # Temperature\n",
        "alpha = 0.5  # Weight for distillation loss\n",
        "\n",
        "# Optimizer\n",
        "optimizer = optim.Adam(student.parameters(), lr=0.001)\n",
        "\n",
        "# Training loop\n",
        "EPOCHS = 100\n",
        "for epoch in range(EPOCHS):\n",
        "\n",
        "    correct = 0\n",
        "    processed = 0\n",
        "    epoch_loss = 0\n",
        "    pbar = tqdm(train_loader)\n",
        "    student.train()\n",
        "    for batch_idx, (data, target) in enumerate(pbar):\n",
        "        data, target = data.to(device), target.to(device)\n",
        "\n",
        "        optimizer.zero_grad()\n",
        "\n",
        "        # Teacher predictions (soft labels)\n",
        "        with torch.no_grad():\n",
        "            teacher_logits = teacher(data) / T\n",
        "\n",
        "        teacher_probs = torch.softmax(teacher_logits, dim=1)\n",
        "\n",
        "        # Student predictions\n",
        "        student_logits = student(data)\n",
        "        student_probs = torch.log_softmax(student_logits / T, dim=1)\n",
        "\n",
        "        # Compute losses\n",
        "        loss_soft = soft_loss(student_probs, teacher_probs) * (T ** 2)  # Scale by T^2\n",
        "        loss_hard = hard_loss(student_logits, target)\n",
        "        loss = alpha * loss_hard + (1 - alpha) * loss_soft\n",
        "\n",
        "        epoch_loss += loss.item()\n",
        "\n",
        "        # Backpropagation\n",
        "        loss.backward()\n",
        "        optimizer.step()\n",
        "\n",
        "        pred = student_logits.argmax(dim=1, keepdim=True)  # get the index of the max log-probability\n",
        "        correct += pred.eq(target.view_as(pred)).sum().item()\n",
        "        processed += len(data)\n",
        "\n",
        "        pbar.set_description(desc=f'Loss={loss.item()} Batch_id={batch_idx} Accuracy={100 * correct / processed:0.2f}')\n",
        "\n",
        "    avg_train_loss = epoch_loss / len(train_loader)\n",
        "    train_losses.append(avg_train_loss)\n",
        "    train_acc.append(100 * correct / processed) # Append to train_acc here\n",
        "\n",
        "    # Check for early stopping\n",
        "    if early_stopping(avg_train_loss):\n",
        "        try:\n",
        "            # Ensure the directory exists\n",
        "            save_dir = '/content/drive/MyDrive/EPAi_V5'\n",
        "            os.makedirs(save_dir, exist_ok=True)\n",
        "            PATH = os.path.join(save_dir, f'model_distil_acc_{int(train_acc[-1]):d}.pth')\n",
        "        except OSError:\n",
        "            # Fallback to current directory if Drive is unavailable\n",
        "            PATH = f'./model_small_acc_{int(train_acc[-1]):d}.pth'\n",
        "\n",
        "        # Save the model weights\n",
        "        torch.save(model.state_dict(), PATH)\n",
        "        print(f\"Model saved at: {PATH}\")\n",
        "        print(\"Early stopping triggered!\")\n",
        "        break\n",
        "\n",
        "    student.eval()\n",
        "\n",
        "    test_loss = 0\n",
        "    correct = 0\n",
        "\n",
        "    with torch.no_grad():\n",
        "        for data, target in test_loader:\n",
        "            data, target = data.to(device), target.to(device)\n",
        "\n",
        "            output = student(data)\n",
        "\n",
        "            test_loss += F.nll_loss(output, target, reduction='sum').item()  # sum up batch loss\n",
        "            pred = output.argmax(dim=1, keepdim=True)  # get the index of the max log-probability\n",
        "            correct += pred.eq(target.view_as(pred)).sum().item()\n",
        "\n",
        "    test_loss /= len(test_loader.dataset)\n",
        "    test_losses.append(test_loss)\n",
        "\n",
        "    print('\\nTest set: Average loss: {:.4f}, Accuracy: {}/{} ({:.2f}%)\\n'.format(\n",
        "        test_loss, correct, len(test_loader.dataset),\n",
        "        100. * correct / len(test_loader.dataset)))\n",
        "\n"
      ],
      "metadata": {
        "colab": {
          "base_uri": "https://localhost:8080/"
        },
        "id": "goXWg5nAgyrO",
        "outputId": "5320565b-ee08-4205-9b7c-49b2093c59da"
      },
      "execution_count": 11,
      "outputs": [
        {
          "output_type": "stream",
          "name": "stdout",
          "text": [
            "Using device = cuda\n",
            "=============================================\n",
            "Student model accuracy before training \n",
            "\n",
            "Test set: Average loss: 0.7493, Accuracy: 7525/10000 (75.25%)\n",
            "\n",
            "=============================================\n"
          ]
        },
        {
          "output_type": "stream",
          "name": "stderr",
          "text": [
            "Loss=1.246791958808899 Batch_id=24 Accuracy=76.08: 100%|██████████| 25/25 [00:17<00:00,  1.41it/s]\n"
          ]
        },
        {
          "output_type": "stream",
          "name": "stdout",
          "text": [
            "\n",
            "Test set: Average loss: 0.8613, Accuracy: 7480/10000 (74.80%)\n",
            "\n"
          ]
        },
        {
          "output_type": "stream",
          "name": "stderr",
          "text": [
            "Loss=1.036960482597351 Batch_id=24 Accuracy=79.96: 100%|██████████| 25/25 [00:17<00:00,  1.42it/s]\n"
          ]
        },
        {
          "output_type": "stream",
          "name": "stdout",
          "text": [
            "\n",
            "Test set: Average loss: 0.7897, Accuracy: 7633/10000 (76.33%)\n",
            "\n"
          ]
        },
        {
          "output_type": "stream",
          "name": "stderr",
          "text": [
            "Loss=1.0559091567993164 Batch_id=24 Accuracy=80.92: 100%|██████████| 25/25 [00:17<00:00,  1.47it/s]\n"
          ]
        },
        {
          "output_type": "stream",
          "name": "stdout",
          "text": [
            "\n",
            "Test set: Average loss: 0.7581, Accuracy: 7699/10000 (76.99%)\n",
            "\n"
          ]
        },
        {
          "output_type": "stream",
          "name": "stderr",
          "text": [
            "Loss=1.017242670059204 Batch_id=24 Accuracy=81.65: 100%|██████████| 25/25 [00:17<00:00,  1.44it/s]\n"
          ]
        },
        {
          "output_type": "stream",
          "name": "stdout",
          "text": [
            "\n",
            "Test set: Average loss: 0.7319, Accuracy: 7787/10000 (77.87%)\n",
            "\n"
          ]
        },
        {
          "output_type": "stream",
          "name": "stderr",
          "text": [
            "Loss=0.9263374209403992 Batch_id=24 Accuracy=82.10: 100%|██████████| 25/25 [00:16<00:00,  1.47it/s]\n"
          ]
        },
        {
          "output_type": "stream",
          "name": "stdout",
          "text": [
            "\n",
            "Test set: Average loss: 0.7310, Accuracy: 7857/10000 (78.57%)\n",
            "\n"
          ]
        },
        {
          "output_type": "stream",
          "name": "stderr",
          "text": [
            "Loss=1.0241096019744873 Batch_id=24 Accuracy=82.66: 100%|██████████| 25/25 [00:17<00:00,  1.41it/s]"
          ]
        },
        {
          "output_type": "stream",
          "name": "stdout",
          "text": [
            "---------- prev = 0.9687244987487793 current = 0.9527503371238708 ---------\n"
          ]
        },
        {
          "output_type": "stream",
          "name": "stderr",
          "text": [
            "\n"
          ]
        },
        {
          "output_type": "stream",
          "name": "stdout",
          "text": [
            "\n",
            "Test set: Average loss: 0.8039, Accuracy: 7691/10000 (76.91%)\n",
            "\n"
          ]
        },
        {
          "output_type": "stream",
          "name": "stderr",
          "text": [
            "Loss=0.8990921974182129 Batch_id=24 Accuracy=82.76: 100%|██████████| 25/25 [00:17<00:00,  1.44it/s]\n"
          ]
        },
        {
          "output_type": "stream",
          "name": "stdout",
          "text": [
            "\n",
            "Test set: Average loss: 0.7652, Accuracy: 7733/10000 (77.33%)\n",
            "\n"
          ]
        },
        {
          "output_type": "stream",
          "name": "stderr",
          "text": [
            "Loss=0.8882584571838379 Batch_id=24 Accuracy=83.16: 100%|██████████| 25/25 [00:18<00:00,  1.38it/s]"
          ]
        },
        {
          "output_type": "stream",
          "name": "stdout",
          "text": [
            "---------- prev = 0.9171848630905152 current = 0.8985904693603516 ---------\n"
          ]
        },
        {
          "output_type": "stream",
          "name": "stderr",
          "text": [
            "\n"
          ]
        },
        {
          "output_type": "stream",
          "name": "stdout",
          "text": [
            "\n",
            "Test set: Average loss: 0.7453, Accuracy: 7769/10000 (77.69%)\n",
            "\n"
          ]
        },
        {
          "output_type": "stream",
          "name": "stderr",
          "text": [
            "Loss=0.9041925668716431 Batch_id=24 Accuracy=83.76: 100%|██████████| 25/25 [00:17<00:00,  1.46it/s]\n"
          ]
        },
        {
          "output_type": "stream",
          "name": "stdout",
          "text": [
            "\n",
            "Test set: Average loss: 0.7226, Accuracy: 7857/10000 (78.57%)\n",
            "\n"
          ]
        },
        {
          "output_type": "stream",
          "name": "stderr",
          "text": [
            "Loss=0.8615862131118774 Batch_id=24 Accuracy=83.87: 100%|██████████| 25/25 [00:18<00:00,  1.38it/s]"
          ]
        },
        {
          "output_type": "stream",
          "name": "stdout",
          "text": [
            "---------- prev = 0.8707234072685242 current = 0.8623436975479126 ---------\n"
          ]
        },
        {
          "output_type": "stream",
          "name": "stderr",
          "text": [
            "\n"
          ]
        },
        {
          "output_type": "stream",
          "name": "stdout",
          "text": [
            "\n",
            "Test set: Average loss: 0.7005, Accuracy: 7893/10000 (78.93%)\n",
            "\n"
          ]
        },
        {
          "output_type": "stream",
          "name": "stderr",
          "text": [
            "Loss=0.794651448726654 Batch_id=24 Accuracy=84.48: 100%|██████████| 25/25 [00:17<00:00,  1.46it/s]\n"
          ]
        },
        {
          "output_type": "stream",
          "name": "stdout",
          "text": [
            "\n",
            "Test set: Average loss: 0.7302, Accuracy: 7843/10000 (78.43%)\n",
            "\n"
          ]
        },
        {
          "output_type": "stream",
          "name": "stderr",
          "text": [
            "Loss=0.8175041675567627 Batch_id=24 Accuracy=84.57: 100%|██████████| 25/25 [00:18<00:00,  1.35it/s]"
          ]
        },
        {
          "output_type": "stream",
          "name": "stdout",
          "text": [
            "---------- prev = 0.8261134171485901 current = 0.8205741333961487 ---------\n"
          ]
        },
        {
          "output_type": "stream",
          "name": "stderr",
          "text": [
            "\n"
          ]
        },
        {
          "output_type": "stream",
          "name": "stdout",
          "text": [
            "\n",
            "Test set: Average loss: 0.6839, Accuracy: 7917/10000 (79.17%)\n",
            "\n"
          ]
        },
        {
          "output_type": "stream",
          "name": "stderr",
          "text": [
            "Loss=0.7790884971618652 Batch_id=24 Accuracy=84.96: 100%|██████████| 25/25 [00:17<00:00,  1.44it/s]\n"
          ]
        },
        {
          "output_type": "stream",
          "name": "stdout",
          "text": [
            "\n",
            "Test set: Average loss: 0.7128, Accuracy: 7889/10000 (78.89%)\n",
            "\n"
          ]
        },
        {
          "output_type": "stream",
          "name": "stderr",
          "text": [
            "Loss=0.7970046997070312 Batch_id=24 Accuracy=85.23: 100%|██████████| 25/25 [00:17<00:00,  1.46it/s]"
          ]
        },
        {
          "output_type": "stream",
          "name": "stdout",
          "text": [
            "---------- prev = 0.8001772952079773 current = 0.7927077388763428 ---------\n"
          ]
        },
        {
          "output_type": "stream",
          "name": "stderr",
          "text": [
            "\n"
          ]
        },
        {
          "output_type": "stream",
          "name": "stdout",
          "text": [
            "\n",
            "Test set: Average loss: 0.7171, Accuracy: 7871/10000 (78.71%)\n",
            "\n"
          ]
        },
        {
          "output_type": "stream",
          "name": "stderr",
          "text": [
            "Loss=0.8118811845779419 Batch_id=24 Accuracy=85.82: 100%|██████████| 25/25 [00:17<00:00,  1.43it/s]\n"
          ]
        },
        {
          "output_type": "stream",
          "name": "stdout",
          "text": [
            "\n",
            "Test set: Average loss: 0.7101, Accuracy: 7901/10000 (79.01%)\n",
            "\n"
          ]
        },
        {
          "output_type": "stream",
          "name": "stderr",
          "text": [
            "Loss=0.7828143835067749 Batch_id=24 Accuracy=85.89: 100%|██████████| 25/25 [00:17<00:00,  1.45it/s]"
          ]
        },
        {
          "output_type": "stream",
          "name": "stdout",
          "text": [
            "---------- prev = 0.7703193974494934 current = 0.7603784418106079 ---------\n"
          ]
        },
        {
          "output_type": "stream",
          "name": "stderr",
          "text": [
            "\n"
          ]
        },
        {
          "output_type": "stream",
          "name": "stdout",
          "text": [
            "\n",
            "Test set: Average loss: 0.7035, Accuracy: 7905/10000 (79.05%)\n",
            "\n"
          ]
        },
        {
          "output_type": "stream",
          "name": "stderr",
          "text": [
            "Loss=0.8103650212287903 Batch_id=24 Accuracy=85.86: 100%|██████████| 25/25 [00:18<00:00,  1.36it/s]"
          ]
        },
        {
          "output_type": "stream",
          "name": "stdout",
          "text": [
            "---------- prev = 0.7603784418106079 current = 0.7619184136390686 ---------\n"
          ]
        },
        {
          "output_type": "stream",
          "name": "stderr",
          "text": [
            "\n"
          ]
        },
        {
          "output_type": "stream",
          "name": "stdout",
          "text": [
            "\n",
            "Test set: Average loss: 0.7008, Accuracy: 7956/10000 (79.56%)\n",
            "\n"
          ]
        },
        {
          "output_type": "stream",
          "name": "stderr",
          "text": [
            "Loss=0.7591429352760315 Batch_id=24 Accuracy=86.19: 100%|██████████| 25/25 [00:17<00:00,  1.46it/s]"
          ]
        },
        {
          "output_type": "stream",
          "name": "stdout",
          "text": [
            "---------- prev = 0.7619184136390686 current = 0.7482853484153748 ---------\n"
          ]
        },
        {
          "output_type": "stream",
          "name": "stderr",
          "text": [
            "\n"
          ]
        },
        {
          "output_type": "stream",
          "name": "stdout",
          "text": [
            "\n",
            "Test set: Average loss: 0.6687, Accuracy: 7981/10000 (79.81%)\n",
            "\n"
          ]
        },
        {
          "output_type": "stream",
          "name": "stderr",
          "text": [
            "Loss=0.7329272031784058 Batch_id=24 Accuracy=86.72: 100%|██████████| 25/25 [00:18<00:00,  1.35it/s]\n"
          ]
        },
        {
          "output_type": "stream",
          "name": "stdout",
          "text": [
            "\n",
            "Test set: Average loss: 0.6767, Accuracy: 7984/10000 (79.84%)\n",
            "\n"
          ]
        },
        {
          "output_type": "stream",
          "name": "stderr",
          "text": [
            "Loss=0.7703170776367188 Batch_id=24 Accuracy=86.99: 100%|██████████| 25/25 [00:17<00:00,  1.40it/s]"
          ]
        },
        {
          "output_type": "stream",
          "name": "stdout",
          "text": [
            "---------- prev = 0.723474714756012 current = 0.7126913523674011 ---------\n"
          ]
        },
        {
          "output_type": "stream",
          "name": "stderr",
          "text": [
            "\n"
          ]
        },
        {
          "output_type": "stream",
          "name": "stdout",
          "text": [
            "\n",
            "Test set: Average loss: 0.6846, Accuracy: 7964/10000 (79.64%)\n",
            "\n"
          ]
        },
        {
          "output_type": "stream",
          "name": "stderr",
          "text": [
            "Loss=0.7100624442100525 Batch_id=24 Accuracy=86.98: 100%|██████████| 25/25 [00:17<00:00,  1.44it/s]"
          ]
        },
        {
          "output_type": "stream",
          "name": "stdout",
          "text": [
            "---------- prev = 0.7126913523674011 current = 0.7117586159706115 ---------\n"
          ]
        },
        {
          "output_type": "stream",
          "name": "stderr",
          "text": [
            "\n"
          ]
        },
        {
          "output_type": "stream",
          "name": "stdout",
          "text": [
            "\n",
            "Test set: Average loss: 0.6718, Accuracy: 7972/10000 (79.72%)\n",
            "\n"
          ]
        },
        {
          "output_type": "stream",
          "name": "stderr",
          "text": [
            "Loss=0.726957380771637 Batch_id=24 Accuracy=87.49: 100%|██████████| 25/25 [00:17<00:00,  1.40it/s]"
          ]
        },
        {
          "output_type": "stream",
          "name": "stdout",
          "text": [
            "---------- prev = 0.7117586159706115 current = 0.6972872185707092 ---------\n"
          ]
        },
        {
          "output_type": "stream",
          "name": "stderr",
          "text": [
            "\n"
          ]
        },
        {
          "output_type": "stream",
          "name": "stdout",
          "text": [
            "\n",
            "Test set: Average loss: 0.7240, Accuracy: 7880/10000 (78.80%)\n",
            "\n"
          ]
        },
        {
          "output_type": "stream",
          "name": "stderr",
          "text": [
            "Loss=0.6941761374473572 Batch_id=24 Accuracy=87.25: 100%|██████████| 25/25 [00:17<00:00,  1.43it/s]"
          ]
        },
        {
          "output_type": "stream",
          "name": "stdout",
          "text": [
            "---------- prev = 0.6972872185707092 current = 0.6909924077987671 ---------\n"
          ]
        },
        {
          "output_type": "stream",
          "name": "stderr",
          "text": [
            "\n"
          ]
        },
        {
          "output_type": "stream",
          "name": "stdout",
          "text": [
            "\n",
            "Test set: Average loss: 0.6660, Accuracy: 7970/10000 (79.70%)\n",
            "\n"
          ]
        },
        {
          "output_type": "stream",
          "name": "stderr",
          "text": [
            "Loss=0.7098481059074402 Batch_id=24 Accuracy=87.79: 100%|██████████| 25/25 [00:18<00:00,  1.36it/s]"
          ]
        },
        {
          "output_type": "stream",
          "name": "stdout",
          "text": [
            "---------- prev = 0.6909924077987671 current = 0.6800520181655884 ---------\n",
            "Model saved at: /content/drive/MyDrive/EPAi_V5/model_distil_acc_87.pth\n",
            "Early stopping triggered!\n"
          ]
        },
        {
          "output_type": "stream",
          "name": "stderr",
          "text": [
            "\n"
          ]
        }
      ]
    }
  ]
}